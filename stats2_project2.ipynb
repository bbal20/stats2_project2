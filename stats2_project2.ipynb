{
 "cells": [
  {
   "cell_type": "markdown",
   "metadata": {},
   "source": [
    "# Stats 2 Project 2\n",
    "<i>Kito Patterson and Hayley Horn"
   ]
  },
  {
   "cell_type": "markdown",
   "metadata": {},
   "source": [
    "## Load the Data"
   ]
  },
  {
   "cell_type": "code",
   "execution_count": 37,
   "metadata": {},
   "outputs": [],
   "source": [
    "#load packages\n",
    "import pandas as pd\n",
    "import numpy as np \n",
    "import warnings\n",
    "import statsmodels.api as sm\n",
    "import pylab as pl\n",
    "\n",
    "warnings.filterwarnings('ignore')"
   ]
  },
  {
   "cell_type": "code",
   "execution_count": 38,
   "metadata": {},
   "outputs": [],
   "source": [
    "# Data import\n",
    "df = pd.read_csv(\"hmeq.csv\") "
   ]
  },
  {
   "cell_type": "markdown",
   "metadata": {},
   "source": [
    "## Exploratory Data Analysis"
   ]
  },
  {
   "cell_type": "code",
   "execution_count": 39,
   "metadata": {},
   "outputs": [
    {
     "name": "stdout",
     "output_type": "stream",
     "text": [
      "Number of Rows, Number of Columns: (5960, 13)\n"
     ]
    }
   ],
   "source": [
    "# Get a quick summary of table structure\n",
    "print(\"Number of Rows, Number of Columns:\", df.shape)"
   ]
  },
  {
   "cell_type": "code",
   "execution_count": 40,
   "metadata": {},
   "outputs": [
    {
     "data": {
      "text/html": [
       "<div>\n",
       "<style scoped>\n",
       "    .dataframe tbody tr th:only-of-type {\n",
       "        vertical-align: middle;\n",
       "    }\n",
       "\n",
       "    .dataframe tbody tr th {\n",
       "        vertical-align: top;\n",
       "    }\n",
       "\n",
       "    .dataframe thead th {\n",
       "        text-align: right;\n",
       "    }\n",
       "</style>\n",
       "<table border=\"1\" class=\"dataframe\">\n",
       "  <thead>\n",
       "    <tr style=\"text-align: right;\">\n",
       "      <th></th>\n",
       "      <th>BAD</th>\n",
       "      <th>LOAN</th>\n",
       "      <th>MORTDUE</th>\n",
       "      <th>VALUE</th>\n",
       "      <th>REASON</th>\n",
       "      <th>JOB</th>\n",
       "      <th>YOJ</th>\n",
       "      <th>DEROG</th>\n",
       "      <th>DELINQ</th>\n",
       "      <th>CLAGE</th>\n",
       "      <th>NINQ</th>\n",
       "      <th>CLNO</th>\n",
       "      <th>DEBTINC</th>\n",
       "    </tr>\n",
       "  </thead>\n",
       "  <tbody>\n",
       "    <tr>\n",
       "      <th>0</th>\n",
       "      <td>1</td>\n",
       "      <td>1100</td>\n",
       "      <td>25860.0</td>\n",
       "      <td>39025.0</td>\n",
       "      <td>HomeImp</td>\n",
       "      <td>Other</td>\n",
       "      <td>10.5</td>\n",
       "      <td>0.0</td>\n",
       "      <td>0.0</td>\n",
       "      <td>94.366667</td>\n",
       "      <td>1.0</td>\n",
       "      <td>9.0</td>\n",
       "      <td>NaN</td>\n",
       "    </tr>\n",
       "    <tr>\n",
       "      <th>1</th>\n",
       "      <td>1</td>\n",
       "      <td>1300</td>\n",
       "      <td>70053.0</td>\n",
       "      <td>68400.0</td>\n",
       "      <td>HomeImp</td>\n",
       "      <td>Other</td>\n",
       "      <td>7.0</td>\n",
       "      <td>0.0</td>\n",
       "      <td>2.0</td>\n",
       "      <td>121.833333</td>\n",
       "      <td>0.0</td>\n",
       "      <td>14.0</td>\n",
       "      <td>NaN</td>\n",
       "    </tr>\n",
       "    <tr>\n",
       "      <th>2</th>\n",
       "      <td>1</td>\n",
       "      <td>1500</td>\n",
       "      <td>13500.0</td>\n",
       "      <td>16700.0</td>\n",
       "      <td>HomeImp</td>\n",
       "      <td>Other</td>\n",
       "      <td>4.0</td>\n",
       "      <td>0.0</td>\n",
       "      <td>0.0</td>\n",
       "      <td>149.466667</td>\n",
       "      <td>1.0</td>\n",
       "      <td>10.0</td>\n",
       "      <td>NaN</td>\n",
       "    </tr>\n",
       "    <tr>\n",
       "      <th>3</th>\n",
       "      <td>1</td>\n",
       "      <td>1500</td>\n",
       "      <td>NaN</td>\n",
       "      <td>NaN</td>\n",
       "      <td>NaN</td>\n",
       "      <td>NaN</td>\n",
       "      <td>NaN</td>\n",
       "      <td>NaN</td>\n",
       "      <td>NaN</td>\n",
       "      <td>NaN</td>\n",
       "      <td>NaN</td>\n",
       "      <td>NaN</td>\n",
       "      <td>NaN</td>\n",
       "    </tr>\n",
       "    <tr>\n",
       "      <th>4</th>\n",
       "      <td>0</td>\n",
       "      <td>1700</td>\n",
       "      <td>97800.0</td>\n",
       "      <td>112000.0</td>\n",
       "      <td>HomeImp</td>\n",
       "      <td>Office</td>\n",
       "      <td>3.0</td>\n",
       "      <td>0.0</td>\n",
       "      <td>0.0</td>\n",
       "      <td>93.333333</td>\n",
       "      <td>0.0</td>\n",
       "      <td>14.0</td>\n",
       "      <td>NaN</td>\n",
       "    </tr>\n",
       "  </tbody>\n",
       "</table>\n",
       "</div>"
      ],
      "text/plain": [
       "   BAD  LOAN  MORTDUE     VALUE   REASON     JOB   YOJ  DEROG  DELINQ  \\\n",
       "0    1  1100  25860.0   39025.0  HomeImp   Other  10.5    0.0     0.0   \n",
       "1    1  1300  70053.0   68400.0  HomeImp   Other   7.0    0.0     2.0   \n",
       "2    1  1500  13500.0   16700.0  HomeImp   Other   4.0    0.0     0.0   \n",
       "3    1  1500      NaN       NaN      NaN     NaN   NaN    NaN     NaN   \n",
       "4    0  1700  97800.0  112000.0  HomeImp  Office   3.0    0.0     0.0   \n",
       "\n",
       "        CLAGE  NINQ  CLNO  DEBTINC  \n",
       "0   94.366667   1.0   9.0      NaN  \n",
       "1  121.833333   0.0  14.0      NaN  \n",
       "2  149.466667   1.0  10.0      NaN  \n",
       "3         NaN   NaN   NaN      NaN  \n",
       "4   93.333333   0.0  14.0      NaN  "
      ]
     },
     "execution_count": 40,
     "metadata": {},
     "output_type": "execute_result"
    }
   ],
   "source": [
    "# View the first 5 rows\n",
    "df.head() "
   ]
  },
  {
   "cell_type": "markdown",
   "metadata": {},
   "source": [
    "Row 3 in the top 5 rows contains mostly NaN values, and would not be useful for analysis."
   ]
  },
  {
   "cell_type": "code",
   "execution_count": 41,
   "metadata": {},
   "outputs": [
    {
     "name": "stdout",
     "output_type": "stream",
     "text": [
      "<class 'pandas.core.frame.DataFrame'>\n",
      "RangeIndex: 5960 entries, 0 to 5959\n",
      "Data columns (total 13 columns):\n",
      "BAD        5960 non-null int64\n",
      "LOAN       5960 non-null int64\n",
      "MORTDUE    5442 non-null float64\n",
      "VALUE      5848 non-null float64\n",
      "REASON     5708 non-null object\n",
      "JOB        5681 non-null object\n",
      "YOJ        5445 non-null float64\n",
      "DEROG      5252 non-null float64\n",
      "DELINQ     5380 non-null float64\n",
      "CLAGE      5652 non-null float64\n",
      "NINQ       5450 non-null float64\n",
      "CLNO       5738 non-null float64\n",
      "DEBTINC    4693 non-null float64\n",
      "dtypes: float64(9), int64(2), object(2)\n",
      "memory usage: 605.4+ KB\n"
     ]
    }
   ],
   "source": [
    "#review data set non-nulls and data types\n",
    "df.info()"
   ]
  },
  {
   "cell_type": "markdown",
   "metadata": {},
   "source": [
    "This dataset seems to have some missing values that need to be addressed before EDA. Lets take a look below."
   ]
  },
  {
   "cell_type": "code",
   "execution_count": 42,
   "metadata": {
    "scrolled": true
   },
   "outputs": [
    {
     "data": {
      "text/html": [
       "<div>\n",
       "<style scoped>\n",
       "    .dataframe tbody tr th:only-of-type {\n",
       "        vertical-align: middle;\n",
       "    }\n",
       "\n",
       "    .dataframe tbody tr th {\n",
       "        vertical-align: top;\n",
       "    }\n",
       "\n",
       "    .dataframe thead th {\n",
       "        text-align: right;\n",
       "    }\n",
       "</style>\n",
       "<table border=\"1\" class=\"dataframe\">\n",
       "  <thead>\n",
       "    <tr style=\"text-align: right;\">\n",
       "      <th></th>\n",
       "      <th>BAD</th>\n",
       "      <th>LOAN</th>\n",
       "      <th>MORTDUE</th>\n",
       "      <th>VALUE</th>\n",
       "      <th>YOJ</th>\n",
       "      <th>DEROG</th>\n",
       "      <th>DELINQ</th>\n",
       "      <th>CLAGE</th>\n",
       "      <th>NINQ</th>\n",
       "      <th>CLNO</th>\n",
       "      <th>DEBTINC</th>\n",
       "    </tr>\n",
       "  </thead>\n",
       "  <tbody>\n",
       "    <tr>\n",
       "      <th>count</th>\n",
       "      <td>5960.000</td>\n",
       "      <td>5960.00</td>\n",
       "      <td>5442.000</td>\n",
       "      <td>5848.000</td>\n",
       "      <td>5445.000</td>\n",
       "      <td>5252.000</td>\n",
       "      <td>5380.000</td>\n",
       "      <td>5652.000</td>\n",
       "      <td>5450.000</td>\n",
       "      <td>5738.000</td>\n",
       "      <td>4693.000</td>\n",
       "    </tr>\n",
       "    <tr>\n",
       "      <th>mean</th>\n",
       "      <td>0.199</td>\n",
       "      <td>18607.97</td>\n",
       "      <td>73760.817</td>\n",
       "      <td>101776.049</td>\n",
       "      <td>8.922</td>\n",
       "      <td>0.255</td>\n",
       "      <td>0.449</td>\n",
       "      <td>179.766</td>\n",
       "      <td>1.186</td>\n",
       "      <td>21.296</td>\n",
       "      <td>33.780</td>\n",
       "    </tr>\n",
       "    <tr>\n",
       "      <th>std</th>\n",
       "      <td>0.400</td>\n",
       "      <td>11207.48</td>\n",
       "      <td>44457.609</td>\n",
       "      <td>57385.775</td>\n",
       "      <td>7.574</td>\n",
       "      <td>0.846</td>\n",
       "      <td>1.127</td>\n",
       "      <td>85.810</td>\n",
       "      <td>1.729</td>\n",
       "      <td>10.139</td>\n",
       "      <td>8.602</td>\n",
       "    </tr>\n",
       "    <tr>\n",
       "      <th>min</th>\n",
       "      <td>0.000</td>\n",
       "      <td>1100.00</td>\n",
       "      <td>2063.000</td>\n",
       "      <td>8000.000</td>\n",
       "      <td>0.000</td>\n",
       "      <td>0.000</td>\n",
       "      <td>0.000</td>\n",
       "      <td>0.000</td>\n",
       "      <td>0.000</td>\n",
       "      <td>0.000</td>\n",
       "      <td>0.524</td>\n",
       "    </tr>\n",
       "    <tr>\n",
       "      <th>25%</th>\n",
       "      <td>0.000</td>\n",
       "      <td>11100.00</td>\n",
       "      <td>46276.000</td>\n",
       "      <td>66075.500</td>\n",
       "      <td>3.000</td>\n",
       "      <td>0.000</td>\n",
       "      <td>0.000</td>\n",
       "      <td>115.117</td>\n",
       "      <td>0.000</td>\n",
       "      <td>15.000</td>\n",
       "      <td>29.140</td>\n",
       "    </tr>\n",
       "    <tr>\n",
       "      <th>50%</th>\n",
       "      <td>0.000</td>\n",
       "      <td>16300.00</td>\n",
       "      <td>65019.000</td>\n",
       "      <td>89235.500</td>\n",
       "      <td>7.000</td>\n",
       "      <td>0.000</td>\n",
       "      <td>0.000</td>\n",
       "      <td>173.467</td>\n",
       "      <td>1.000</td>\n",
       "      <td>20.000</td>\n",
       "      <td>34.818</td>\n",
       "    </tr>\n",
       "    <tr>\n",
       "      <th>75%</th>\n",
       "      <td>0.000</td>\n",
       "      <td>23300.00</td>\n",
       "      <td>91488.000</td>\n",
       "      <td>119824.250</td>\n",
       "      <td>13.000</td>\n",
       "      <td>0.000</td>\n",
       "      <td>0.000</td>\n",
       "      <td>231.562</td>\n",
       "      <td>2.000</td>\n",
       "      <td>26.000</td>\n",
       "      <td>39.003</td>\n",
       "    </tr>\n",
       "    <tr>\n",
       "      <th>max</th>\n",
       "      <td>1.000</td>\n",
       "      <td>89900.00</td>\n",
       "      <td>399550.000</td>\n",
       "      <td>855909.000</td>\n",
       "      <td>41.000</td>\n",
       "      <td>10.000</td>\n",
       "      <td>15.000</td>\n",
       "      <td>1168.234</td>\n",
       "      <td>17.000</td>\n",
       "      <td>71.000</td>\n",
       "      <td>203.312</td>\n",
       "    </tr>\n",
       "  </tbody>\n",
       "</table>\n",
       "</div>"
      ],
      "text/plain": [
       "            BAD      LOAN     MORTDUE       VALUE       YOJ     DEROG  \\\n",
       "count  5960.000   5960.00    5442.000    5848.000  5445.000  5252.000   \n",
       "mean      0.199  18607.97   73760.817  101776.049     8.922     0.255   \n",
       "std       0.400  11207.48   44457.609   57385.775     7.574     0.846   \n",
       "min       0.000   1100.00    2063.000    8000.000     0.000     0.000   \n",
       "25%       0.000  11100.00   46276.000   66075.500     3.000     0.000   \n",
       "50%       0.000  16300.00   65019.000   89235.500     7.000     0.000   \n",
       "75%       0.000  23300.00   91488.000  119824.250    13.000     0.000   \n",
       "max       1.000  89900.00  399550.000  855909.000    41.000    10.000   \n",
       "\n",
       "         DELINQ     CLAGE      NINQ      CLNO   DEBTINC  \n",
       "count  5380.000  5652.000  5450.000  5738.000  4693.000  \n",
       "mean      0.449   179.766     1.186    21.296    33.780  \n",
       "std       1.127    85.810     1.729    10.139     8.602  \n",
       "min       0.000     0.000     0.000     0.000     0.524  \n",
       "25%       0.000   115.117     0.000    15.000    29.140  \n",
       "50%       0.000   173.467     1.000    20.000    34.818  \n",
       "75%       0.000   231.562     2.000    26.000    39.003  \n",
       "max      15.000  1168.234    17.000    71.000   203.312  "
      ]
     },
     "execution_count": 42,
     "metadata": {},
     "output_type": "execute_result"
    }
   ],
   "source": [
    "#review basic summary statistics\n",
    "df_desc = df.describe()\n",
    "\n",
    "# display the descriptive statistics rounded to two decimals\n",
    "df_desc.round(3) \n"
   ]
  },
  {
   "cell_type": "markdown",
   "metadata": {},
   "source": [
    "Mortdue and value have the most range and variance"
   ]
  },
  {
   "cell_type": "markdown",
   "metadata": {},
   "source": [
    "Now lets take a closer look at the missing values by column."
   ]
  },
  {
   "cell_type": "code",
   "execution_count": 43,
   "metadata": {},
   "outputs": [
    {
     "data": {
      "text/plain": [
       "DEBTINC    21.258389\n",
       "DEROG      11.879195\n",
       "DELINQ      9.731544\n",
       "MORTDUE     8.691275\n",
       "YOJ         8.640940\n",
       "NINQ        8.557047\n",
       "CLAGE       5.167785\n",
       "JOB         4.681208\n",
       "REASON      4.228188\n",
       "CLNO        3.724832\n",
       "VALUE       1.879195\n",
       "LOAN        0.000000\n",
       "BAD         0.000000\n",
       "dtype: float64"
      ]
     },
     "execution_count": 43,
     "metadata": {},
     "output_type": "execute_result"
    }
   ],
   "source": [
    "# Missing values sort descending\n",
    "df_percent = df.isna().sum()/len(df)*100 # Percent of total 'NaN' rows by column\n",
    "df_percent.sort_values(ascending=False)"
   ]
  },
  {
   "cell_type": "markdown",
   "metadata": {},
   "source": [
    "'DEBTINC' (Debt to Income ratio) is missing for more than 20% of its values followed by 'DEROG' at 11%. That may be too many values to impute. We may want to impute values within groupings as a alternative. For example, 'DEBTINC' mean or median values may be significantly different for \"Sales\" vs \"Other\" job titles. We need to explore deeper to see if there is a story to uncover if we decide to impute.\n",
    "\n",
    "Almost half of the dataset is lost if we remove all rows with at least 1 NaN value. That isn't necessarily a bad thing, but it is worth noting. Imputing variables may be an option at a later juncture. We will move forward by simply removing rows with missing values for now."
   ]
  },
  {
   "cell_type": "code",
   "execution_count": 44,
   "metadata": {},
   "outputs": [
    {
     "name": "stdout",
     "output_type": "stream",
     "text": [
      "Old data frame length: 5960 \n",
      "New data frame length: 3364 \n",
      "Number of rows with at least 1 NA value:  2596 \n",
      "Percent of total rows lost to NA values: 0.4355704697986577\n"
     ]
    }
   ],
   "source": [
    "#Create new dataframe with NaN rows removed\n",
    "df_NoNaN = df.dropna() \n",
    "\n",
    "# comparing NEW (df) vs OLD (df2) dataframes \n",
    "print(\"Old data frame length:\", len(df), \"\\nNew data frame length:\",  \n",
    "       len(df_NoNaN), \"\\nNumber of rows with at least 1 NA value: \", \n",
    "       (len(df)-len(df_NoNaN)),\"\\nPercent of total rows lost to NA values:\",\n",
    "     (len(df)-len(df_NoNaN))/len(df))"
   ]
  },
  {
   "cell_type": "markdown",
   "metadata": {},
   "source": [
    "## Exploratory Data Analysis Part 2 \n",
    "#KITO- DOES THIS EXCLUDE NaN records?"
   ]
  },
  {
   "cell_type": "code",
   "execution_count": 45,
   "metadata": {},
   "outputs": [
    {
     "data": {
      "text/html": [
       "<style  type=\"text/css\" >\n",
       "</style><table id=\"T_bf8bb9fa_6066_11e9_aa85_38baf852ff89\" ><thead>    <tr>        <th class=\"blank level0\" ></th>        <th class=\"col_heading level0 col0\" >LOAN</th>        <th class=\"col_heading level0 col1\" >MORTDUE</th>        <th class=\"col_heading level0 col2\" >VALUE</th>        <th class=\"col_heading level0 col3\" >YOJ</th>        <th class=\"col_heading level0 col4\" >DEROG</th>        <th class=\"col_heading level0 col5\" >DELINQ</th>        <th class=\"col_heading level0 col6\" >CLAGE</th>        <th class=\"col_heading level0 col7\" >NINQ</th>        <th class=\"col_heading level0 col8\" >CLNO</th>        <th class=\"col_heading level0 col9\" >DEBTINC</th>    </tr></thead><tbody>\n",
       "                <tr>\n",
       "                        <th id=\"T_bf8bb9fa_6066_11e9_aa85_38baf852ff89level0_row0\" class=\"row_heading level0 row0\" >count</th>\n",
       "                        <td id=\"T_bf8bb9fa_6066_11e9_aa85_38baf852ff89row0_col0\" class=\"data row0 col0\" >4771.00</td>\n",
       "                        <td id=\"T_bf8bb9fa_6066_11e9_aa85_38baf852ff89row0_col1\" class=\"data row0 col1\" >4359.00</td>\n",
       "                        <td id=\"T_bf8bb9fa_6066_11e9_aa85_38baf852ff89row0_col2\" class=\"data row0 col2\" >4764.00</td>\n",
       "                        <td id=\"T_bf8bb9fa_6066_11e9_aa85_38baf852ff89row0_col3\" class=\"data row0 col3\" >4321.00</td>\n",
       "                        <td id=\"T_bf8bb9fa_6066_11e9_aa85_38baf852ff89row0_col4\" class=\"data row0 col4\" >4150.00</td>\n",
       "                        <td id=\"T_bf8bb9fa_6066_11e9_aa85_38baf852ff89row0_col5\" class=\"data row0 col5\" >4263.00</td>\n",
       "                        <td id=\"T_bf8bb9fa_6066_11e9_aa85_38baf852ff89row0_col6\" class=\"data row0 col6\" >4541.00</td>\n",
       "                        <td id=\"T_bf8bb9fa_6066_11e9_aa85_38baf852ff89row0_col7\" class=\"data row0 col7\" >4336.00</td>\n",
       "                        <td id=\"T_bf8bb9fa_6066_11e9_aa85_38baf852ff89row0_col8\" class=\"data row0 col8\" >4602.00</td>\n",
       "                        <td id=\"T_bf8bb9fa_6066_11e9_aa85_38baf852ff89row0_col9\" class=\"data row0 col9\" >4290.00</td>\n",
       "            </tr>\n",
       "            <tr>\n",
       "                        <th id=\"T_bf8bb9fa_6066_11e9_aa85_38baf852ff89level0_row1\" class=\"row_heading level0 row1\" >mean</th>\n",
       "                        <td id=\"T_bf8bb9fa_6066_11e9_aa85_38baf852ff89row1_col0\" class=\"data row1 col0\" >19028.11</td>\n",
       "                        <td id=\"T_bf8bb9fa_6066_11e9_aa85_38baf852ff89row1_col1\" class=\"data row1 col1\" >74829.25</td>\n",
       "                        <td id=\"T_bf8bb9fa_6066_11e9_aa85_38baf852ff89row1_col2\" class=\"data row1 col2\" >102595.92</td>\n",
       "                        <td id=\"T_bf8bb9fa_6066_11e9_aa85_38baf852ff89row1_col3\" class=\"data row1 col3\" >9.15</td>\n",
       "                        <td id=\"T_bf8bb9fa_6066_11e9_aa85_38baf852ff89row1_col4\" class=\"data row1 col4\" >0.13</td>\n",
       "                        <td id=\"T_bf8bb9fa_6066_11e9_aa85_38baf852ff89row1_col5\" class=\"data row1 col5\" >0.25</td>\n",
       "                        <td id=\"T_bf8bb9fa_6066_11e9_aa85_38baf852ff89row1_col6\" class=\"data row1 col6\" >187.00</td>\n",
       "                        <td id=\"T_bf8bb9fa_6066_11e9_aa85_38baf852ff89row1_col7\" class=\"data row1 col7\" >1.03</td>\n",
       "                        <td id=\"T_bf8bb9fa_6066_11e9_aa85_38baf852ff89row1_col8\" class=\"data row1 col8\" >21.32</td>\n",
       "                        <td id=\"T_bf8bb9fa_6066_11e9_aa85_38baf852ff89row1_col9\" class=\"data row1 col9\" >33.25</td>\n",
       "            </tr>\n",
       "            <tr>\n",
       "                        <th id=\"T_bf8bb9fa_6066_11e9_aa85_38baf852ff89level0_row2\" class=\"row_heading level0 row2\" >std</th>\n",
       "                        <td id=\"T_bf8bb9fa_6066_11e9_aa85_38baf852ff89row2_col0\" class=\"data row2 col0\" >11115.76</td>\n",
       "                        <td id=\"T_bf8bb9fa_6066_11e9_aa85_38baf852ff89row2_col1\" class=\"data row2 col1\" >43584.99</td>\n",
       "                        <td id=\"T_bf8bb9fa_6066_11e9_aa85_38baf852ff89row2_col2\" class=\"data row2 col2\" >52748.39</td>\n",
       "                        <td id=\"T_bf8bb9fa_6066_11e9_aa85_38baf852ff89row2_col3\" class=\"data row2 col3\" >7.68</td>\n",
       "                        <td id=\"T_bf8bb9fa_6066_11e9_aa85_38baf852ff89row2_col4\" class=\"data row2 col4\" >0.51</td>\n",
       "                        <td id=\"T_bf8bb9fa_6066_11e9_aa85_38baf852ff89row2_col5\" class=\"data row2 col5\" >0.67</td>\n",
       "                        <td id=\"T_bf8bb9fa_6066_11e9_aa85_38baf852ff89row2_col6\" class=\"data row2 col6\" >84.47</td>\n",
       "                        <td id=\"T_bf8bb9fa_6066_11e9_aa85_38baf852ff89row2_col7\" class=\"data row2 col7\" >1.53</td>\n",
       "                        <td id=\"T_bf8bb9fa_6066_11e9_aa85_38baf852ff89row2_col8\" class=\"data row2 col8\" >9.68</td>\n",
       "                        <td id=\"T_bf8bb9fa_6066_11e9_aa85_38baf852ff89row2_col9\" class=\"data row2 col9\" >6.95</td>\n",
       "            </tr>\n",
       "            <tr>\n",
       "                        <th id=\"T_bf8bb9fa_6066_11e9_aa85_38baf852ff89level0_row3\" class=\"row_heading level0 row3\" >min</th>\n",
       "                        <td id=\"T_bf8bb9fa_6066_11e9_aa85_38baf852ff89row3_col0\" class=\"data row3 col0\" >1700.00</td>\n",
       "                        <td id=\"T_bf8bb9fa_6066_11e9_aa85_38baf852ff89row3_col1\" class=\"data row3 col1\" >2619.00</td>\n",
       "                        <td id=\"T_bf8bb9fa_6066_11e9_aa85_38baf852ff89row3_col2\" class=\"data row3 col2\" >8000.00</td>\n",
       "                        <td id=\"T_bf8bb9fa_6066_11e9_aa85_38baf852ff89row3_col3\" class=\"data row3 col3\" >0.00</td>\n",
       "                        <td id=\"T_bf8bb9fa_6066_11e9_aa85_38baf852ff89row3_col4\" class=\"data row3 col4\" >0.00</td>\n",
       "                        <td id=\"T_bf8bb9fa_6066_11e9_aa85_38baf852ff89row3_col5\" class=\"data row3 col5\" >0.00</td>\n",
       "                        <td id=\"T_bf8bb9fa_6066_11e9_aa85_38baf852ff89row3_col6\" class=\"data row3 col6\" >0.49</td>\n",
       "                        <td id=\"T_bf8bb9fa_6066_11e9_aa85_38baf852ff89row3_col7\" class=\"data row3 col7\" >0.00</td>\n",
       "                        <td id=\"T_bf8bb9fa_6066_11e9_aa85_38baf852ff89row3_col8\" class=\"data row3 col8\" >0.00</td>\n",
       "                        <td id=\"T_bf8bb9fa_6066_11e9_aa85_38baf852ff89row3_col9\" class=\"data row3 col9\" >0.72</td>\n",
       "            </tr>\n",
       "            <tr>\n",
       "                        <th id=\"T_bf8bb9fa_6066_11e9_aa85_38baf852ff89level0_row4\" class=\"row_heading level0 row4\" >25%</th>\n",
       "                        <td id=\"T_bf8bb9fa_6066_11e9_aa85_38baf852ff89row4_col0\" class=\"data row4 col0\" >11700.00</td>\n",
       "                        <td id=\"T_bf8bb9fa_6066_11e9_aa85_38baf852ff89row4_col1\" class=\"data row4 col1\" >47484.00</td>\n",
       "                        <td id=\"T_bf8bb9fa_6066_11e9_aa85_38baf852ff89row4_col2\" class=\"data row4 col2\" >67297.75</td>\n",
       "                        <td id=\"T_bf8bb9fa_6066_11e9_aa85_38baf852ff89row4_col3\" class=\"data row4 col3\" >3.00</td>\n",
       "                        <td id=\"T_bf8bb9fa_6066_11e9_aa85_38baf852ff89row4_col4\" class=\"data row4 col4\" >0.00</td>\n",
       "                        <td id=\"T_bf8bb9fa_6066_11e9_aa85_38baf852ff89row4_col5\" class=\"data row4 col5\" >0.00</td>\n",
       "                        <td id=\"T_bf8bb9fa_6066_11e9_aa85_38baf852ff89row4_col6\" class=\"data row4 col6\" >120.22</td>\n",
       "                        <td id=\"T_bf8bb9fa_6066_11e9_aa85_38baf852ff89row4_col7\" class=\"data row4 col7\" >0.00</td>\n",
       "                        <td id=\"T_bf8bb9fa_6066_11e9_aa85_38baf852ff89row4_col8\" class=\"data row4 col8\" >15.00</td>\n",
       "                        <td id=\"T_bf8bb9fa_6066_11e9_aa85_38baf852ff89row4_col9\" class=\"data row4 col9\" >28.91</td>\n",
       "            </tr>\n",
       "            <tr>\n",
       "                        <th id=\"T_bf8bb9fa_6066_11e9_aa85_38baf852ff89level0_row5\" class=\"row_heading level0 row5\" >50%</th>\n",
       "                        <td id=\"T_bf8bb9fa_6066_11e9_aa85_38baf852ff89row5_col0\" class=\"data row5 col0\" >16900.00</td>\n",
       "                        <td id=\"T_bf8bb9fa_6066_11e9_aa85_38baf852ff89row5_col1\" class=\"data row5 col1\" >66839.00</td>\n",
       "                        <td id=\"T_bf8bb9fa_6066_11e9_aa85_38baf852ff89row5_col2\" class=\"data row5 col2\" >90659.00</td>\n",
       "                        <td id=\"T_bf8bb9fa_6066_11e9_aa85_38baf852ff89row5_col3\" class=\"data row5 col3\" >7.00</td>\n",
       "                        <td id=\"T_bf8bb9fa_6066_11e9_aa85_38baf852ff89row5_col4\" class=\"data row5 col4\" >0.00</td>\n",
       "                        <td id=\"T_bf8bb9fa_6066_11e9_aa85_38baf852ff89row5_col5\" class=\"data row5 col5\" >0.00</td>\n",
       "                        <td id=\"T_bf8bb9fa_6066_11e9_aa85_38baf852ff89row5_col6\" class=\"data row5 col6\" >180.42</td>\n",
       "                        <td id=\"T_bf8bb9fa_6066_11e9_aa85_38baf852ff89row5_col7\" class=\"data row5 col7\" >1.00</td>\n",
       "                        <td id=\"T_bf8bb9fa_6066_11e9_aa85_38baf852ff89row5_col8\" class=\"data row5 col8\" >20.00</td>\n",
       "                        <td id=\"T_bf8bb9fa_6066_11e9_aa85_38baf852ff89row5_col9\" class=\"data row5 col9\" >34.54</td>\n",
       "            </tr>\n",
       "            <tr>\n",
       "                        <th id=\"T_bf8bb9fa_6066_11e9_aa85_38baf852ff89level0_row6\" class=\"row_heading level0 row6\" >75%</th>\n",
       "                        <td id=\"T_bf8bb9fa_6066_11e9_aa85_38baf852ff89row6_col0\" class=\"data row6 col0\" >23500.00</td>\n",
       "                        <td id=\"T_bf8bb9fa_6066_11e9_aa85_38baf852ff89row6_col1\" class=\"data row6 col1\" >93068.00</td>\n",
       "                        <td id=\"T_bf8bb9fa_6066_11e9_aa85_38baf852ff89row6_col2\" class=\"data row6 col2\" >120615.50</td>\n",
       "                        <td id=\"T_bf8bb9fa_6066_11e9_aa85_38baf852ff89row6_col3\" class=\"data row6 col3\" >13.00</td>\n",
       "                        <td id=\"T_bf8bb9fa_6066_11e9_aa85_38baf852ff89row6_col4\" class=\"data row6 col4\" >0.00</td>\n",
       "                        <td id=\"T_bf8bb9fa_6066_11e9_aa85_38baf852ff89row6_col5\" class=\"data row6 col5\" >0.00</td>\n",
       "                        <td id=\"T_bf8bb9fa_6066_11e9_aa85_38baf852ff89row6_col6\" class=\"data row6 col6\" >240.16</td>\n",
       "                        <td id=\"T_bf8bb9fa_6066_11e9_aa85_38baf852ff89row6_col7\" class=\"data row6 col7\" >2.00</td>\n",
       "                        <td id=\"T_bf8bb9fa_6066_11e9_aa85_38baf852ff89row6_col8\" class=\"data row6 col8\" >26.00</td>\n",
       "                        <td id=\"T_bf8bb9fa_6066_11e9_aa85_38baf852ff89row6_col9\" class=\"data row6 col9\" >38.74</td>\n",
       "            </tr>\n",
       "            <tr>\n",
       "                        <th id=\"T_bf8bb9fa_6066_11e9_aa85_38baf852ff89level0_row7\" class=\"row_heading level0 row7\" >max</th>\n",
       "                        <td id=\"T_bf8bb9fa_6066_11e9_aa85_38baf852ff89row7_col0\" class=\"data row7 col0\" >89900.00</td>\n",
       "                        <td id=\"T_bf8bb9fa_6066_11e9_aa85_38baf852ff89row7_col1\" class=\"data row7 col1\" >371003.00</td>\n",
       "                        <td id=\"T_bf8bb9fa_6066_11e9_aa85_38baf852ff89row7_col2\" class=\"data row7 col2\" >471827.00</td>\n",
       "                        <td id=\"T_bf8bb9fa_6066_11e9_aa85_38baf852ff89row7_col3\" class=\"data row7 col3\" >36.00</td>\n",
       "                        <td id=\"T_bf8bb9fa_6066_11e9_aa85_38baf852ff89row7_col4\" class=\"data row7 col4\" >6.00</td>\n",
       "                        <td id=\"T_bf8bb9fa_6066_11e9_aa85_38baf852ff89row7_col5\" class=\"data row7 col5\" >5.00</td>\n",
       "                        <td id=\"T_bf8bb9fa_6066_11e9_aa85_38baf852ff89row7_col6\" class=\"data row7 col6\" >649.75</td>\n",
       "                        <td id=\"T_bf8bb9fa_6066_11e9_aa85_38baf852ff89row7_col7\" class=\"data row7 col7\" >11.00</td>\n",
       "                        <td id=\"T_bf8bb9fa_6066_11e9_aa85_38baf852ff89row7_col8\" class=\"data row7 col8\" >56.00</td>\n",
       "                        <td id=\"T_bf8bb9fa_6066_11e9_aa85_38baf852ff89row7_col9\" class=\"data row7 col9\" >45.57</td>\n",
       "            </tr>\n",
       "    </tbody></table>"
      ],
      "text/plain": [
       "<pandas.io.formats.style.Styler at 0x1928ad5fd68>"
      ]
     },
     "execution_count": 45,
     "metadata": {},
     "output_type": "execute_result"
    }
   ],
   "source": [
    "#Summary stats for Paid loans\n",
    "df[df['BAD']==0].drop('BAD', axis=1).describe().style.format(\"{:.2f}\")"
   ]
  },
  {
   "cell_type": "code",
   "execution_count": 46,
   "metadata": {},
   "outputs": [
    {
     "data": {
      "text/html": [
       "<style  type=\"text/css\" >\n",
       "</style><table id=\"T_bfd04a38_6066_11e9_b019_38baf852ff89\" ><thead>    <tr>        <th class=\"blank level0\" ></th>        <th class=\"col_heading level0 col0\" >LOAN</th>        <th class=\"col_heading level0 col1\" >MORTDUE</th>        <th class=\"col_heading level0 col2\" >VALUE</th>        <th class=\"col_heading level0 col3\" >YOJ</th>        <th class=\"col_heading level0 col4\" >DEROG</th>        <th class=\"col_heading level0 col5\" >DELINQ</th>        <th class=\"col_heading level0 col6\" >CLAGE</th>        <th class=\"col_heading level0 col7\" >NINQ</th>        <th class=\"col_heading level0 col8\" >CLNO</th>        <th class=\"col_heading level0 col9\" >DEBTINC</th>    </tr></thead><tbody>\n",
       "                <tr>\n",
       "                        <th id=\"T_bfd04a38_6066_11e9_b019_38baf852ff89level0_row0\" class=\"row_heading level0 row0\" >count</th>\n",
       "                        <td id=\"T_bfd04a38_6066_11e9_b019_38baf852ff89row0_col0\" class=\"data row0 col0\" >1189.00</td>\n",
       "                        <td id=\"T_bfd04a38_6066_11e9_b019_38baf852ff89row0_col1\" class=\"data row0 col1\" >1083.00</td>\n",
       "                        <td id=\"T_bfd04a38_6066_11e9_b019_38baf852ff89row0_col2\" class=\"data row0 col2\" >1084.00</td>\n",
       "                        <td id=\"T_bfd04a38_6066_11e9_b019_38baf852ff89row0_col3\" class=\"data row0 col3\" >1124.00</td>\n",
       "                        <td id=\"T_bfd04a38_6066_11e9_b019_38baf852ff89row0_col4\" class=\"data row0 col4\" >1102.00</td>\n",
       "                        <td id=\"T_bfd04a38_6066_11e9_b019_38baf852ff89row0_col5\" class=\"data row0 col5\" >1117.00</td>\n",
       "                        <td id=\"T_bfd04a38_6066_11e9_b019_38baf852ff89row0_col6\" class=\"data row0 col6\" >1111.00</td>\n",
       "                        <td id=\"T_bfd04a38_6066_11e9_b019_38baf852ff89row0_col7\" class=\"data row0 col7\" >1114.00</td>\n",
       "                        <td id=\"T_bfd04a38_6066_11e9_b019_38baf852ff89row0_col8\" class=\"data row0 col8\" >1136.00</td>\n",
       "                        <td id=\"T_bfd04a38_6066_11e9_b019_38baf852ff89row0_col9\" class=\"data row0 col9\" >403.00</td>\n",
       "            </tr>\n",
       "            <tr>\n",
       "                        <th id=\"T_bfd04a38_6066_11e9_b019_38baf852ff89level0_row1\" class=\"row_heading level0 row1\" >mean</th>\n",
       "                        <td id=\"T_bfd04a38_6066_11e9_b019_38baf852ff89row1_col0\" class=\"data row1 col0\" >16922.12</td>\n",
       "                        <td id=\"T_bfd04a38_6066_11e9_b019_38baf852ff89row1_col1\" class=\"data row1 col1\" >69460.45</td>\n",
       "                        <td id=\"T_bfd04a38_6066_11e9_b019_38baf852ff89row1_col2\" class=\"data row1 col2\" >98172.85</td>\n",
       "                        <td id=\"T_bfd04a38_6066_11e9_b019_38baf852ff89row1_col3\" class=\"data row1 col3\" >8.03</td>\n",
       "                        <td id=\"T_bfd04a38_6066_11e9_b019_38baf852ff89row1_col4\" class=\"data row1 col4\" >0.71</td>\n",
       "                        <td id=\"T_bfd04a38_6066_11e9_b019_38baf852ff89row1_col5\" class=\"data row1 col5\" >1.23</td>\n",
       "                        <td id=\"T_bfd04a38_6066_11e9_b019_38baf852ff89row1_col6\" class=\"data row1 col6\" >150.19</td>\n",
       "                        <td id=\"T_bfd04a38_6066_11e9_b019_38baf852ff89row1_col7\" class=\"data row1 col7\" >1.78</td>\n",
       "                        <td id=\"T_bfd04a38_6066_11e9_b019_38baf852ff89row1_col8\" class=\"data row1 col8\" >21.21</td>\n",
       "                        <td id=\"T_bfd04a38_6066_11e9_b019_38baf852ff89row1_col9\" class=\"data row1 col9\" >39.39</td>\n",
       "            </tr>\n",
       "            <tr>\n",
       "                        <th id=\"T_bfd04a38_6066_11e9_b019_38baf852ff89level0_row2\" class=\"row_heading level0 row2\" >std</th>\n",
       "                        <td id=\"T_bfd04a38_6066_11e9_b019_38baf852ff89row2_col0\" class=\"data row2 col0\" >11418.46</td>\n",
       "                        <td id=\"T_bfd04a38_6066_11e9_b019_38baf852ff89row2_col1\" class=\"data row2 col1\" >47588.19</td>\n",
       "                        <td id=\"T_bfd04a38_6066_11e9_b019_38baf852ff89row2_col2\" class=\"data row2 col2\" >74339.82</td>\n",
       "                        <td id=\"T_bfd04a38_6066_11e9_b019_38baf852ff89row2_col3\" class=\"data row2 col3\" >7.10</td>\n",
       "                        <td id=\"T_bfd04a38_6066_11e9_b019_38baf852ff89row2_col4\" class=\"data row2 col4\" >1.47</td>\n",
       "                        <td id=\"T_bfd04a38_6066_11e9_b019_38baf852ff89row2_col5\" class=\"data row2 col5\" >1.90</td>\n",
       "                        <td id=\"T_bfd04a38_6066_11e9_b019_38baf852ff89row2_col6\" class=\"data row2 col6\" >84.95</td>\n",
       "                        <td id=\"T_bfd04a38_6066_11e9_b019_38baf852ff89row2_col7\" class=\"data row2 col7\" >2.25</td>\n",
       "                        <td id=\"T_bfd04a38_6066_11e9_b019_38baf852ff89row2_col8\" class=\"data row2 col8\" >11.81</td>\n",
       "                        <td id=\"T_bfd04a38_6066_11e9_b019_38baf852ff89row2_col9\" class=\"data row2 col9\" >17.72</td>\n",
       "            </tr>\n",
       "            <tr>\n",
       "                        <th id=\"T_bfd04a38_6066_11e9_b019_38baf852ff89level0_row3\" class=\"row_heading level0 row3\" >min</th>\n",
       "                        <td id=\"T_bfd04a38_6066_11e9_b019_38baf852ff89row3_col0\" class=\"data row3 col0\" >1100.00</td>\n",
       "                        <td id=\"T_bfd04a38_6066_11e9_b019_38baf852ff89row3_col1\" class=\"data row3 col1\" >2063.00</td>\n",
       "                        <td id=\"T_bfd04a38_6066_11e9_b019_38baf852ff89row3_col2\" class=\"data row3 col2\" >8800.00</td>\n",
       "                        <td id=\"T_bfd04a38_6066_11e9_b019_38baf852ff89row3_col3\" class=\"data row3 col3\" >0.00</td>\n",
       "                        <td id=\"T_bfd04a38_6066_11e9_b019_38baf852ff89row3_col4\" class=\"data row3 col4\" >0.00</td>\n",
       "                        <td id=\"T_bfd04a38_6066_11e9_b019_38baf852ff89row3_col5\" class=\"data row3 col5\" >0.00</td>\n",
       "                        <td id=\"T_bfd04a38_6066_11e9_b019_38baf852ff89row3_col6\" class=\"data row3 col6\" >0.00</td>\n",
       "                        <td id=\"T_bfd04a38_6066_11e9_b019_38baf852ff89row3_col7\" class=\"data row3 col7\" >0.00</td>\n",
       "                        <td id=\"T_bfd04a38_6066_11e9_b019_38baf852ff89row3_col8\" class=\"data row3 col8\" >0.00</td>\n",
       "                        <td id=\"T_bfd04a38_6066_11e9_b019_38baf852ff89row3_col9\" class=\"data row3 col9\" >0.52</td>\n",
       "            </tr>\n",
       "            <tr>\n",
       "                        <th id=\"T_bfd04a38_6066_11e9_b019_38baf852ff89level0_row4\" class=\"row_heading level0 row4\" >25%</th>\n",
       "                        <td id=\"T_bfd04a38_6066_11e9_b019_38baf852ff89row4_col0\" class=\"data row4 col0\" >9200.00</td>\n",
       "                        <td id=\"T_bfd04a38_6066_11e9_b019_38baf852ff89row4_col1\" class=\"data row4 col1\" >39946.50</td>\n",
       "                        <td id=\"T_bfd04a38_6066_11e9_b019_38baf852ff89row4_col2\" class=\"data row4 col2\" >59368.25</td>\n",
       "                        <td id=\"T_bfd04a38_6066_11e9_b019_38baf852ff89row4_col3\" class=\"data row4 col3\" >2.00</td>\n",
       "                        <td id=\"T_bfd04a38_6066_11e9_b019_38baf852ff89row4_col4\" class=\"data row4 col4\" >0.00</td>\n",
       "                        <td id=\"T_bfd04a38_6066_11e9_b019_38baf852ff89row4_col5\" class=\"data row4 col5\" >0.00</td>\n",
       "                        <td id=\"T_bfd04a38_6066_11e9_b019_38baf852ff89row4_col6\" class=\"data row4 col6\" >96.03</td>\n",
       "                        <td id=\"T_bfd04a38_6066_11e9_b019_38baf852ff89row4_col7\" class=\"data row4 col7\" >0.00</td>\n",
       "                        <td id=\"T_bfd04a38_6066_11e9_b019_38baf852ff89row4_col8\" class=\"data row4 col8\" >13.00</td>\n",
       "                        <td id=\"T_bfd04a38_6066_11e9_b019_38baf852ff89row4_col9\" class=\"data row4 col9\" >32.38</td>\n",
       "            </tr>\n",
       "            <tr>\n",
       "                        <th id=\"T_bfd04a38_6066_11e9_b019_38baf852ff89level0_row5\" class=\"row_heading level0 row5\" >50%</th>\n",
       "                        <td id=\"T_bfd04a38_6066_11e9_b019_38baf852ff89row5_col0\" class=\"data row5 col0\" >14900.00</td>\n",
       "                        <td id=\"T_bfd04a38_6066_11e9_b019_38baf852ff89row5_col1\" class=\"data row5 col1\" >60279.00</td>\n",
       "                        <td id=\"T_bfd04a38_6066_11e9_b019_38baf852ff89row5_col2\" class=\"data row5 col2\" >82000.00</td>\n",
       "                        <td id=\"T_bfd04a38_6066_11e9_b019_38baf852ff89row5_col3\" class=\"data row5 col3\" >6.00</td>\n",
       "                        <td id=\"T_bfd04a38_6066_11e9_b019_38baf852ff89row5_col4\" class=\"data row5 col4\" >0.00</td>\n",
       "                        <td id=\"T_bfd04a38_6066_11e9_b019_38baf852ff89row5_col5\" class=\"data row5 col5\" >0.00</td>\n",
       "                        <td id=\"T_bfd04a38_6066_11e9_b019_38baf852ff89row5_col6\" class=\"data row5 col6\" >132.87</td>\n",
       "                        <td id=\"T_bfd04a38_6066_11e9_b019_38baf852ff89row5_col7\" class=\"data row5 col7\" >1.00</td>\n",
       "                        <td id=\"T_bfd04a38_6066_11e9_b019_38baf852ff89row5_col8\" class=\"data row5 col8\" >20.00</td>\n",
       "                        <td id=\"T_bfd04a38_6066_11e9_b019_38baf852ff89row5_col9\" class=\"data row5 col9\" >38.08</td>\n",
       "            </tr>\n",
       "            <tr>\n",
       "                        <th id=\"T_bfd04a38_6066_11e9_b019_38baf852ff89level0_row6\" class=\"row_heading level0 row6\" >75%</th>\n",
       "                        <td id=\"T_bfd04a38_6066_11e9_b019_38baf852ff89row6_col0\" class=\"data row6 col0\" >21700.00</td>\n",
       "                        <td id=\"T_bfd04a38_6066_11e9_b019_38baf852ff89row6_col1\" class=\"data row6 col1\" >85864.50</td>\n",
       "                        <td id=\"T_bfd04a38_6066_11e9_b019_38baf852ff89row6_col2\" class=\"data row6 col2\" >116000.00</td>\n",
       "                        <td id=\"T_bfd04a38_6066_11e9_b019_38baf852ff89row6_col3\" class=\"data row6 col3\" >12.00</td>\n",
       "                        <td id=\"T_bfd04a38_6066_11e9_b019_38baf852ff89row6_col4\" class=\"data row6 col4\" >1.00</td>\n",
       "                        <td id=\"T_bfd04a38_6066_11e9_b019_38baf852ff89row6_col5\" class=\"data row6 col5\" >2.00</td>\n",
       "                        <td id=\"T_bfd04a38_6066_11e9_b019_38baf852ff89row6_col6\" class=\"data row6 col6\" >193.28</td>\n",
       "                        <td id=\"T_bfd04a38_6066_11e9_b019_38baf852ff89row6_col7\" class=\"data row6 col7\" >3.00</td>\n",
       "                        <td id=\"T_bfd04a38_6066_11e9_b019_38baf852ff89row6_col8\" class=\"data row6 col8\" >28.00</td>\n",
       "                        <td id=\"T_bfd04a38_6066_11e9_b019_38baf852ff89row6_col9\" class=\"data row6 col9\" >43.29</td>\n",
       "            </tr>\n",
       "            <tr>\n",
       "                        <th id=\"T_bfd04a38_6066_11e9_b019_38baf852ff89level0_row7\" class=\"row_heading level0 row7\" >max</th>\n",
       "                        <td id=\"T_bfd04a38_6066_11e9_b019_38baf852ff89row7_col0\" class=\"data row7 col0\" >77400.00</td>\n",
       "                        <td id=\"T_bfd04a38_6066_11e9_b019_38baf852ff89row7_col1\" class=\"data row7 col1\" >399550.00</td>\n",
       "                        <td id=\"T_bfd04a38_6066_11e9_b019_38baf852ff89row7_col2\" class=\"data row7 col2\" >855909.00</td>\n",
       "                        <td id=\"T_bfd04a38_6066_11e9_b019_38baf852ff89row7_col3\" class=\"data row7 col3\" >41.00</td>\n",
       "                        <td id=\"T_bfd04a38_6066_11e9_b019_38baf852ff89row7_col4\" class=\"data row7 col4\" >10.00</td>\n",
       "                        <td id=\"T_bfd04a38_6066_11e9_b019_38baf852ff89row7_col5\" class=\"data row7 col5\" >15.00</td>\n",
       "                        <td id=\"T_bfd04a38_6066_11e9_b019_38baf852ff89row7_col6\" class=\"data row7 col6\" >1168.23</td>\n",
       "                        <td id=\"T_bfd04a38_6066_11e9_b019_38baf852ff89row7_col7\" class=\"data row7 col7\" >17.00</td>\n",
       "                        <td id=\"T_bfd04a38_6066_11e9_b019_38baf852ff89row7_col8\" class=\"data row7 col8\" >71.00</td>\n",
       "                        <td id=\"T_bfd04a38_6066_11e9_b019_38baf852ff89row7_col9\" class=\"data row7 col9\" >203.31</td>\n",
       "            </tr>\n",
       "    </tbody></table>"
      ],
      "text/plain": [
       "<pandas.io.formats.style.Styler at 0x1928ad0cbe0>"
      ]
     },
     "execution_count": 46,
     "metadata": {},
     "output_type": "execute_result"
    }
   ],
   "source": [
    "#Summary stats for Default loans\n",
    "df[df['BAD']==1].drop('BAD', axis=1).describe().style.format(\"{:.2f}\")"
   ]
  },
  {
   "cell_type": "code",
   "execution_count": 47,
   "metadata": {},
   "outputs": [],
   "source": [
    "# Create dataframe for numeric values only\n",
    "df_numeric = df._get_numeric_data()"
   ]
  },
  {
   "cell_type": "code",
   "execution_count": 48,
   "metadata": {},
   "outputs": [
    {
     "data": {
      "text/html": [
       "<div>\n",
       "<style scoped>\n",
       "    .dataframe tbody tr th:only-of-type {\n",
       "        vertical-align: middle;\n",
       "    }\n",
       "\n",
       "    .dataframe tbody tr th {\n",
       "        vertical-align: top;\n",
       "    }\n",
       "\n",
       "    .dataframe thead th {\n",
       "        text-align: right;\n",
       "    }\n",
       "</style>\n",
       "<table border=\"1\" class=\"dataframe\">\n",
       "  <thead>\n",
       "    <tr style=\"text-align: right;\">\n",
       "      <th></th>\n",
       "      <th>BAD</th>\n",
       "      <th>LOAN</th>\n",
       "      <th>MORTDUE</th>\n",
       "      <th>VALUE</th>\n",
       "      <th>YOJ</th>\n",
       "      <th>DEROG</th>\n",
       "      <th>DELINQ</th>\n",
       "      <th>CLAGE</th>\n",
       "      <th>NINQ</th>\n",
       "      <th>CLNO</th>\n",
       "      <th>DEBTINC</th>\n",
       "    </tr>\n",
       "  </thead>\n",
       "  <tbody>\n",
       "    <tr>\n",
       "      <th>0</th>\n",
       "      <td>1</td>\n",
       "      <td>1100</td>\n",
       "      <td>25860.0</td>\n",
       "      <td>39025.0</td>\n",
       "      <td>10.5</td>\n",
       "      <td>0.0</td>\n",
       "      <td>0.0</td>\n",
       "      <td>94.366667</td>\n",
       "      <td>1.0</td>\n",
       "      <td>9.0</td>\n",
       "      <td>NaN</td>\n",
       "    </tr>\n",
       "    <tr>\n",
       "      <th>1</th>\n",
       "      <td>1</td>\n",
       "      <td>1300</td>\n",
       "      <td>70053.0</td>\n",
       "      <td>68400.0</td>\n",
       "      <td>7.0</td>\n",
       "      <td>0.0</td>\n",
       "      <td>2.0</td>\n",
       "      <td>121.833333</td>\n",
       "      <td>0.0</td>\n",
       "      <td>14.0</td>\n",
       "      <td>NaN</td>\n",
       "    </tr>\n",
       "    <tr>\n",
       "      <th>2</th>\n",
       "      <td>1</td>\n",
       "      <td>1500</td>\n",
       "      <td>13500.0</td>\n",
       "      <td>16700.0</td>\n",
       "      <td>4.0</td>\n",
       "      <td>0.0</td>\n",
       "      <td>0.0</td>\n",
       "      <td>149.466667</td>\n",
       "      <td>1.0</td>\n",
       "      <td>10.0</td>\n",
       "      <td>NaN</td>\n",
       "    </tr>\n",
       "    <tr>\n",
       "      <th>3</th>\n",
       "      <td>1</td>\n",
       "      <td>1500</td>\n",
       "      <td>NaN</td>\n",
       "      <td>NaN</td>\n",
       "      <td>NaN</td>\n",
       "      <td>NaN</td>\n",
       "      <td>NaN</td>\n",
       "      <td>NaN</td>\n",
       "      <td>NaN</td>\n",
       "      <td>NaN</td>\n",
       "      <td>NaN</td>\n",
       "    </tr>\n",
       "    <tr>\n",
       "      <th>4</th>\n",
       "      <td>0</td>\n",
       "      <td>1700</td>\n",
       "      <td>97800.0</td>\n",
       "      <td>112000.0</td>\n",
       "      <td>3.0</td>\n",
       "      <td>0.0</td>\n",
       "      <td>0.0</td>\n",
       "      <td>93.333333</td>\n",
       "      <td>0.0</td>\n",
       "      <td>14.0</td>\n",
       "      <td>NaN</td>\n",
       "    </tr>\n",
       "  </tbody>\n",
       "</table>\n",
       "</div>"
      ],
      "text/plain": [
       "   BAD  LOAN  MORTDUE     VALUE   YOJ  DEROG  DELINQ       CLAGE  NINQ  CLNO  \\\n",
       "0    1  1100  25860.0   39025.0  10.5    0.0     0.0   94.366667   1.0   9.0   \n",
       "1    1  1300  70053.0   68400.0   7.0    0.0     2.0  121.833333   0.0  14.0   \n",
       "2    1  1500  13500.0   16700.0   4.0    0.0     0.0  149.466667   1.0  10.0   \n",
       "3    1  1500      NaN       NaN   NaN    NaN     NaN         NaN   NaN   NaN   \n",
       "4    0  1700  97800.0  112000.0   3.0    0.0     0.0   93.333333   0.0  14.0   \n",
       "\n",
       "   DEBTINC  \n",
       "0      NaN  \n",
       "1      NaN  \n",
       "2      NaN  \n",
       "3      NaN  \n",
       "4      NaN  "
      ]
     },
     "execution_count": 48,
     "metadata": {},
     "output_type": "execute_result"
    }
   ],
   "source": [
    "# View the first 5 rows\n",
    "df_numeric.head()"
   ]
  },
  {
   "cell_type": "markdown",
   "metadata": {},
   "source": [
    "### Scatterplot Matrices"
   ]
  },
  {
   "cell_type": "markdown",
   "metadata": {},
   "source": [
    "\"VALUE\" and \"MORTDUE\" display evidence of multicollinearity. As home values increase so does the TOTAL mortgage due which would makes sense. We may not need both variables, but we will asses that in later modeling efforts."
   ]
  },
  {
   "cell_type": "code",
   "execution_count": null,
   "metadata": {},
   "outputs": [],
   "source": [
    "# Import plotting packages\n",
    "import matplotlib.pyplot as plt\n",
    "import seaborn as sns\n",
    "\n",
    "%matplotlib inline\n",
    "\n",
    "sns.set(style=\"ticks\")\n",
    "\n",
    "cols_cont = ['BAD','LOAN','MORTDUE','VALUE','YOJ','DEROG','DELINQ','DEBTINC']\n",
    "\n",
    "pp = sns.pairplot(df[cols_cont], \n",
    "                  size=1.8,\n",
    "                  aspect=1.0,\n",
    "                  hue='BAD')\n",
    "fig = pp.fig\n",
    "fig.subplots_adjust(top=0.93, wspace=0.3)\n",
    "fig.suptitle('HMEQ Numeric Pairwise Plots', \n",
    "              fontsize=14, fontweight='bold')"
   ]
  },
  {
   "cell_type": "markdown",
   "metadata": {},
   "source": [
    "### Heatmap"
   ]
  },
  {
   "cell_type": "markdown",
   "metadata": {},
   "source": [
    "The heatmap shows 'VALUE' and 'MORTDUE' are the only variables with high mulitcollinearity."
   ]
  },
  {
   "cell_type": "code",
   "execution_count": 50,
   "metadata": {},
   "outputs": [
    {
     "data": {
      "text/plain": [
       "<matplotlib.axes._subplots.AxesSubplot at 0x1928aeb4240>"
      ]
     },
     "execution_count": 50,
     "metadata": {},
     "output_type": "execute_result"
    },
    {
     "data": {
      "image/png": "[encoded data removed]",
      "text/plain": [
       "<Figure size 864x576 with 2 Axes>"
      ]
     },
     "metadata": {
      "needs_background": "light"
     },
     "output_type": "display_data"
    }
   ],
   "source": [
    "import matplotlib.pyplot as plt\n",
    "import seaborn as sns\n",
    "\n",
    "#this increases the plot size\n",
    "plt.figure(figsize=(12,8))\n",
    "\n",
    "#Creates a heatmap of correlated data\n",
    "sns.heatmap(df.corr(), annot=True, linewidth=0.5)"
   ]
  },
  {
   "cell_type": "markdown",
   "metadata": {},
   "source": [
    "### VIF"
   ]
  },
  {
   "cell_type": "markdown",
   "metadata": {},
   "source": [
    "Logistic regression is not robust to multicollinearlity. Although the scatterplot matrix gives us a good visual of possible multicollinearity, VIF values gives us an additional measure to safe guard against collenearity amongst explanatory variables. As suspected, 'VALUE' and 'MORTDUE' are borderline, but they fall under the accetable threshold (VIF >5). In a attempt to reduce the amount of variables and complexities in our model, we will remove one of the two variables in support of subsequent modeling efforts."
   ]
  },
  {
   "cell_type": "code",
   "execution_count": 51,
   "metadata": {},
   "outputs": [
    {
     "data": {
      "text/html": [
       "<div>\n",
       "<style scoped>\n",
       "    .dataframe tbody tr th:only-of-type {\n",
       "        vertical-align: middle;\n",
       "    }\n",
       "\n",
       "    .dataframe tbody tr th {\n",
       "        vertical-align: top;\n",
       "    }\n",
       "\n",
       "    .dataframe thead th {\n",
       "        text-align: right;\n",
       "    }\n",
       "</style>\n",
       "<table border=\"1\" class=\"dataframe\">\n",
       "  <thead>\n",
       "    <tr style=\"text-align: right;\">\n",
       "      <th></th>\n",
       "      <th>factor</th>\n",
       "      <th>features</th>\n",
       "    </tr>\n",
       "  </thead>\n",
       "  <tbody>\n",
       "    <tr>\n",
       "      <th>0</th>\n",
       "      <td>28.745864</td>\n",
       "      <td>Intercept</td>\n",
       "    </tr>\n",
       "    <tr>\n",
       "      <th>1</th>\n",
       "      <td>1.221337</td>\n",
       "      <td>LOAN</td>\n",
       "    </tr>\n",
       "    <tr>\n",
       "      <th>2</th>\n",
       "      <td>4.522241</td>\n",
       "      <td>MORTDUE</td>\n",
       "    </tr>\n",
       "    <tr>\n",
       "      <th>3</th>\n",
       "      <td>4.597730</td>\n",
       "      <td>VALUE</td>\n",
       "    </tr>\n",
       "    <tr>\n",
       "      <th>4</th>\n",
       "      <td>1.108692</td>\n",
       "      <td>YOJ</td>\n",
       "    </tr>\n",
       "    <tr>\n",
       "      <th>5</th>\n",
       "      <td>1.069189</td>\n",
       "      <td>DEROG</td>\n",
       "    </tr>\n",
       "    <tr>\n",
       "      <th>6</th>\n",
       "      <td>1.050836</td>\n",
       "      <td>DELINQ</td>\n",
       "    </tr>\n",
       "    <tr>\n",
       "      <th>7</th>\n",
       "      <td>1.167511</td>\n",
       "      <td>CLAGE</td>\n",
       "    </tr>\n",
       "    <tr>\n",
       "      <th>8</th>\n",
       "      <td>1.074835</td>\n",
       "      <td>NINQ</td>\n",
       "    </tr>\n",
       "    <tr>\n",
       "      <th>9</th>\n",
       "      <td>1.226400</td>\n",
       "      <td>CLNO</td>\n",
       "    </tr>\n",
       "    <tr>\n",
       "      <th>10</th>\n",
       "      <td>1.091798</td>\n",
       "      <td>DEBTINC</td>\n",
       "    </tr>\n",
       "  </tbody>\n",
       "</table>\n",
       "</div>"
      ],
      "text/plain": [
       "       factor   features\n",
       "0   28.745864  Intercept\n",
       "1    1.221337       LOAN\n",
       "2    4.522241    MORTDUE\n",
       "3    4.597730      VALUE\n",
       "4    1.108692        YOJ\n",
       "5    1.069189      DEROG\n",
       "6    1.050836     DELINQ\n",
       "7    1.167511      CLAGE\n",
       "8    1.074835       NINQ\n",
       "9    1.226400       CLNO\n",
       "10   1.091798    DEBTINC"
      ]
     },
     "execution_count": 51,
     "metadata": {},
     "output_type": "execute_result"
    }
   ],
   "source": [
    "from patsy import dmatrices\n",
    "import statsmodels.api as sm\n",
    "from statsmodels.stats.outliers_influence import variance_inflation_factor\n",
    "\n",
    "# Break into left and right hand side; y and X\n",
    "y, X = dmatrices(formula_like = \"BAD ~ LOAN + MORTDUE + VALUE + YOJ + DEROG + DELINQ + CLAGE + NINQ + CLNO + DEBTINC\", \n",
    "                 data = df_numeric, NA_action = \"drop\", return_type = \"dataframe\")\n",
    "\n",
    "# For each Xi, calculate VIF\n",
    "vif = pd.DataFrame()\n",
    "vif['factor'] = [variance_inflation_factor(X.values, i) for i in range(X.shape[1])]\n",
    "vif['features'] = X.columns\n",
    "\n",
    "# Inspect VIF Factors\n",
    "vif"
   ]
  },
  {
   "cell_type": "markdown",
   "metadata": {},
   "source": [
    "We will remove the 'VALUE' variable given it is has a VIF closest to 5. This will allow us to reduce model complexity as much as possible before our model/feature selection efforts. "
   ]
  },
  {
   "cell_type": "code",
   "execution_count": 52,
   "metadata": {},
   "outputs": [],
   "source": [
    "# Drop \"VALUE\" from df\n",
    "df.drop(['VALUE'], axis=1, inplace=True)\n",
    "\n",
    "# Drop \"VALUE\" from df_NoNaN frame\n",
    "df_NoNaN.drop(['VALUE'], axis=1, inplace=True)\n"
   ]
  },
  {
   "cell_type": "code",
   "execution_count": 53,
   "metadata": {},
   "outputs": [
    {
     "data": {
      "text/html": [
       "<div>\n",
       "<style scoped>\n",
       "    .dataframe tbody tr th:only-of-type {\n",
       "        vertical-align: middle;\n",
       "    }\n",
       "\n",
       "    .dataframe tbody tr th {\n",
       "        vertical-align: top;\n",
       "    }\n",
       "\n",
       "    .dataframe thead th {\n",
       "        text-align: right;\n",
       "    }\n",
       "</style>\n",
       "<table border=\"1\" class=\"dataframe\">\n",
       "  <thead>\n",
       "    <tr style=\"text-align: right;\">\n",
       "      <th></th>\n",
       "      <th>BAD</th>\n",
       "      <th>LOAN</th>\n",
       "      <th>MORTDUE</th>\n",
       "      <th>REASON</th>\n",
       "      <th>JOB</th>\n",
       "      <th>YOJ</th>\n",
       "      <th>DEROG</th>\n",
       "      <th>DELINQ</th>\n",
       "      <th>CLAGE</th>\n",
       "      <th>NINQ</th>\n",
       "      <th>CLNO</th>\n",
       "      <th>DEBTINC</th>\n",
       "    </tr>\n",
       "  </thead>\n",
       "  <tbody>\n",
       "    <tr>\n",
       "      <th>0</th>\n",
       "      <td>1</td>\n",
       "      <td>1100</td>\n",
       "      <td>25860.0</td>\n",
       "      <td>HomeImp</td>\n",
       "      <td>Other</td>\n",
       "      <td>10.5</td>\n",
       "      <td>0.0</td>\n",
       "      <td>0.0</td>\n",
       "      <td>94.366667</td>\n",
       "      <td>1.0</td>\n",
       "      <td>9.0</td>\n",
       "      <td>NaN</td>\n",
       "    </tr>\n",
       "    <tr>\n",
       "      <th>1</th>\n",
       "      <td>1</td>\n",
       "      <td>1300</td>\n",
       "      <td>70053.0</td>\n",
       "      <td>HomeImp</td>\n",
       "      <td>Other</td>\n",
       "      <td>7.0</td>\n",
       "      <td>0.0</td>\n",
       "      <td>2.0</td>\n",
       "      <td>121.833333</td>\n",
       "      <td>0.0</td>\n",
       "      <td>14.0</td>\n",
       "      <td>NaN</td>\n",
       "    </tr>\n",
       "    <tr>\n",
       "      <th>2</th>\n",
       "      <td>1</td>\n",
       "      <td>1500</td>\n",
       "      <td>13500.0</td>\n",
       "      <td>HomeImp</td>\n",
       "      <td>Other</td>\n",
       "      <td>4.0</td>\n",
       "      <td>0.0</td>\n",
       "      <td>0.0</td>\n",
       "      <td>149.466667</td>\n",
       "      <td>1.0</td>\n",
       "      <td>10.0</td>\n",
       "      <td>NaN</td>\n",
       "    </tr>\n",
       "    <tr>\n",
       "      <th>3</th>\n",
       "      <td>1</td>\n",
       "      <td>1500</td>\n",
       "      <td>NaN</td>\n",
       "      <td>NaN</td>\n",
       "      <td>NaN</td>\n",
       "      <td>NaN</td>\n",
       "      <td>NaN</td>\n",
       "      <td>NaN</td>\n",
       "      <td>NaN</td>\n",
       "      <td>NaN</td>\n",
       "      <td>NaN</td>\n",
       "      <td>NaN</td>\n",
       "    </tr>\n",
       "    <tr>\n",
       "      <th>4</th>\n",
       "      <td>0</td>\n",
       "      <td>1700</td>\n",
       "      <td>97800.0</td>\n",
       "      <td>HomeImp</td>\n",
       "      <td>Office</td>\n",
       "      <td>3.0</td>\n",
       "      <td>0.0</td>\n",
       "      <td>0.0</td>\n",
       "      <td>93.333333</td>\n",
       "      <td>0.0</td>\n",
       "      <td>14.0</td>\n",
       "      <td>NaN</td>\n",
       "    </tr>\n",
       "  </tbody>\n",
       "</table>\n",
       "</div>"
      ],
      "text/plain": [
       "   BAD  LOAN  MORTDUE   REASON     JOB   YOJ  DEROG  DELINQ       CLAGE  NINQ  \\\n",
       "0    1  1100  25860.0  HomeImp   Other  10.5    0.0     0.0   94.366667   1.0   \n",
       "1    1  1300  70053.0  HomeImp   Other   7.0    0.0     2.0  121.833333   0.0   \n",
       "2    1  1500  13500.0  HomeImp   Other   4.0    0.0     0.0  149.466667   1.0   \n",
       "3    1  1500      NaN      NaN     NaN   NaN    NaN     NaN         NaN   NaN   \n",
       "4    0  1700  97800.0  HomeImp  Office   3.0    0.0     0.0   93.333333   0.0   \n",
       "\n",
       "   CLNO  DEBTINC  \n",
       "0   9.0      NaN  \n",
       "1  14.0      NaN  \n",
       "2  10.0      NaN  \n",
       "3   NaN      NaN  \n",
       "4  14.0      NaN  "
      ]
     },
     "execution_count": 53,
     "metadata": {},
     "output_type": "execute_result"
    }
   ],
   "source": [
    "# View the first 5 rows with no \"VALUE\" field\n",
    "df.head()"
   ]
  },
  {
   "cell_type": "markdown",
   "metadata": {},
   "source": [
    "The third record does not seem to have a lot of analytical value."
   ]
  },
  {
   "cell_type": "code",
   "execution_count": 54,
   "metadata": {},
   "outputs": [
    {
     "data": {
      "text/html": [
       "<div>\n",
       "<style scoped>\n",
       "    .dataframe tbody tr th:only-of-type {\n",
       "        vertical-align: middle;\n",
       "    }\n",
       "\n",
       "    .dataframe tbody tr th {\n",
       "        vertical-align: top;\n",
       "    }\n",
       "\n",
       "    .dataframe thead th {\n",
       "        text-align: right;\n",
       "    }\n",
       "</style>\n",
       "<table border=\"1\" class=\"dataframe\">\n",
       "  <thead>\n",
       "    <tr style=\"text-align: right;\">\n",
       "      <th></th>\n",
       "      <th>BAD</th>\n",
       "      <th>LOAN</th>\n",
       "      <th>MORTDUE</th>\n",
       "      <th>REASON</th>\n",
       "      <th>JOB</th>\n",
       "      <th>YOJ</th>\n",
       "      <th>DEROG</th>\n",
       "      <th>DELINQ</th>\n",
       "      <th>CLAGE</th>\n",
       "      <th>NINQ</th>\n",
       "      <th>CLNO</th>\n",
       "      <th>DEBTINC</th>\n",
       "    </tr>\n",
       "  </thead>\n",
       "  <tbody>\n",
       "    <tr>\n",
       "      <th>5</th>\n",
       "      <td>1</td>\n",
       "      <td>1700</td>\n",
       "      <td>30548.0</td>\n",
       "      <td>HomeImp</td>\n",
       "      <td>Other</td>\n",
       "      <td>9.0</td>\n",
       "      <td>0.0</td>\n",
       "      <td>0.0</td>\n",
       "      <td>101.466002</td>\n",
       "      <td>1.0</td>\n",
       "      <td>8.0</td>\n",
       "      <td>37.113614</td>\n",
       "    </tr>\n",
       "    <tr>\n",
       "      <th>7</th>\n",
       "      <td>1</td>\n",
       "      <td>1800</td>\n",
       "      <td>28502.0</td>\n",
       "      <td>HomeImp</td>\n",
       "      <td>Other</td>\n",
       "      <td>11.0</td>\n",
       "      <td>0.0</td>\n",
       "      <td>0.0</td>\n",
       "      <td>88.766030</td>\n",
       "      <td>0.0</td>\n",
       "      <td>8.0</td>\n",
       "      <td>36.884894</td>\n",
       "    </tr>\n",
       "    <tr>\n",
       "      <th>19</th>\n",
       "      <td>0</td>\n",
       "      <td>2300</td>\n",
       "      <td>102370.0</td>\n",
       "      <td>HomeImp</td>\n",
       "      <td>Office</td>\n",
       "      <td>2.0</td>\n",
       "      <td>0.0</td>\n",
       "      <td>0.0</td>\n",
       "      <td>90.992533</td>\n",
       "      <td>0.0</td>\n",
       "      <td>13.0</td>\n",
       "      <td>31.588503</td>\n",
       "    </tr>\n",
       "    <tr>\n",
       "      <th>25</th>\n",
       "      <td>1</td>\n",
       "      <td>2400</td>\n",
       "      <td>34863.0</td>\n",
       "      <td>HomeImp</td>\n",
       "      <td>Mgr</td>\n",
       "      <td>12.0</td>\n",
       "      <td>0.0</td>\n",
       "      <td>0.0</td>\n",
       "      <td>70.491080</td>\n",
       "      <td>1.0</td>\n",
       "      <td>21.0</td>\n",
       "      <td>38.263601</td>\n",
       "    </tr>\n",
       "    <tr>\n",
       "      <th>26</th>\n",
       "      <td>0</td>\n",
       "      <td>2400</td>\n",
       "      <td>98449.0</td>\n",
       "      <td>HomeImp</td>\n",
       "      <td>Office</td>\n",
       "      <td>4.0</td>\n",
       "      <td>0.0</td>\n",
       "      <td>0.0</td>\n",
       "      <td>93.811775</td>\n",
       "      <td>0.0</td>\n",
       "      <td>13.0</td>\n",
       "      <td>29.681827</td>\n",
       "    </tr>\n",
       "  </tbody>\n",
       "</table>\n",
       "</div>"
      ],
      "text/plain": [
       "    BAD  LOAN   MORTDUE   REASON     JOB   YOJ  DEROG  DELINQ       CLAGE  \\\n",
       "5     1  1700   30548.0  HomeImp   Other   9.0    0.0     0.0  101.466002   \n",
       "7     1  1800   28502.0  HomeImp   Other  11.0    0.0     0.0   88.766030   \n",
       "19    0  2300  102370.0  HomeImp  Office   2.0    0.0     0.0   90.992533   \n",
       "25    1  2400   34863.0  HomeImp     Mgr  12.0    0.0     0.0   70.491080   \n",
       "26    0  2400   98449.0  HomeImp  Office   4.0    0.0     0.0   93.811775   \n",
       "\n",
       "    NINQ  CLNO    DEBTINC  \n",
       "5    1.0   8.0  37.113614  \n",
       "7    0.0   8.0  36.884894  \n",
       "19   0.0  13.0  31.588503  \n",
       "25   1.0  21.0  38.263601  \n",
       "26   0.0  13.0  29.681827  "
      ]
     },
     "execution_count": 54,
     "metadata": {},
     "output_type": "execute_result"
    }
   ],
   "source": [
    "# View the first 5 rows with the NaNs removed\n",
    "df_NoNaN.head()"
   ]
  },
  {
   "cell_type": "markdown",
   "metadata": {},
   "source": [
    "### Analyzing Data"
   ]
  },
  {
   "cell_type": "code",
   "execution_count": 55,
   "metadata": {},
   "outputs": [],
   "source": [
    "# Import plotting packages\n",
    "import matplotlib.pyplot as plt\n",
    "import seaborn as sns\n",
    "\n",
    "%matplotlib inline"
   ]
  },
  {
   "cell_type": "markdown",
   "metadata": {},
   "source": [
    "The response variable is unbalanced. We may need to address this behavior when modeling. "
   ]
  },
  {
   "cell_type": "code",
   "execution_count": 56,
   "metadata": {},
   "outputs": [
    {
     "data": {
      "text/plain": [
       "Text(0.5, 1.0, 'Default Counts Yes/No')"
      ]
     },
     "execution_count": 56,
     "metadata": {},
     "output_type": "execute_result"
    },
    {
     "data": {
      "image/png": "[encoded data removed]",
      "text/plain": [
       "<Figure size 432x288 with 1 Axes>"
      ]
     },
     "metadata": {
      "needs_background": "light"
     },
     "output_type": "display_data"
    }
   ],
   "source": [
    "sns.countplot(x=\"BAD\",data=df_NoNaN).set_title('Default Counts Yes/No')"
   ]
  },
  {
   "cell_type": "markdown",
   "metadata": {},
   "source": [
    "Most borrowers are using their property equity to consolidate debt "
   ]
  },
  {
   "cell_type": "code",
   "execution_count": 57,
   "metadata": {},
   "outputs": [
    {
     "data": {
      "image/png": "[encoded data removed]",
      "text/plain": [
       "<Figure size 864x576 with 2 Axes>"
      ]
     },
     "metadata": {
      "needs_background": "light"
     },
     "output_type": "display_data"
    }
   ],
   "source": [
    "# How to get Percent values by attribute shown on graphs?\n",
    "plt.figure(figsize=(12,8))\n",
    "\n",
    "plt.subplot(221)\n",
    "sns.countplot(x=\"REASON\",data=df).set_title('Default Counts Yes/No')\n",
    "\n",
    "plt.subplot(222)\n",
    "sns.countplot(x=\"REASON\", hue=\"BAD\", data=df).set_title('Default Counts By Reason')\n",
    "\n",
    "#plt.subplot(223)\n",
    "#sns.countplot(x=\"JOB\", hue=\"BAD\", data=df).set_title('Default Counts By Job Type')\n",
    "\n",
    "plt.tight_layout()"
   ]
  },
  {
   "cell_type": "markdown",
   "metadata": {},
   "source": [
    "Borrowers who default tend to have slighty less years on the job than borrowers who don't default. They are likely less established with lower salaries that may signal more defaults. There also seems to be some seperation between both response populations and \"CLAGE\" (Age of oldest tradeline in # of months). This could indicate that less credit history can potentially lead to higher defaults. It is important to note the mean for defaults are skewed by a few outliers. We may need to investigate those observations further."
   ]
  },
  {
   "cell_type": "code",
   "execution_count": 58,
   "metadata": {},
   "outputs": [
    {
     "data": {
      "image/png": "[encoded data removed]",
      "text/plain": [
       "<Figure size 864x576 with 2 Axes>"
      ]
     },
     "metadata": {
      "needs_background": "light"
     },
     "output_type": "display_data"
    }
   ],
   "source": [
    "plt.figure(figsize=(12,8))\n",
    "\n",
    "plt.subplot(221)\n",
    "sns.boxplot(x=\"BAD\", y=\"YOJ\", data=df, palette=\"Set2\")\n",
    "\n",
    "plt.subplot(222)\n",
    "sns.boxplot(x=\"BAD\", y=\"CLAGE\", data=df, palette=\"Set2\")\n",
    "\n",
    "plt.tight_layout()"
   ]
  },
  {
   "cell_type": "markdown",
   "metadata": {},
   "source": [
    "There seems to be a good deal of interaction between the factor levels. \n",
    "This may suggest subsequent models may perform better with interaction terms included."
   ]
  },
  {
   "cell_type": "code",
   "execution_count": 59,
   "metadata": {},
   "outputs": [
    {
     "data": {
      "image/png": "[encoded data removed]",
      "text/plain": [
       "<Figure size 864x576 with 4 Axes>"
      ]
     },
     "metadata": {
      "needs_background": "light"
     },
     "output_type": "display_data"
    }
   ],
   "source": [
    "plt.figure(figsize=(12,8))\n",
    "\n",
    "plt.subplot(221)\n",
    "sns.pointplot(x=\"REASON\", y=\"LOAN\", hue=\"BAD\", data=df)\n",
    "\n",
    "plt.subplot(222)\n",
    "sns.pointplot(x=\"REASON\", y=\"YOJ\", hue=\"BAD\", data=df)\n",
    "\n",
    "plt.subplot(223)\n",
    "sns.pointplot(x=\"JOB\", y=\"MORTDUE\", hue=\"BAD\", data=df)\n",
    "\n",
    "plt.subplot(224)\n",
    "sns.pointplot(x=\"JOB\", y=\"LOAN\", hue=\"BAD\", data=df)\n",
    "\n",
    "#plt.subplot(225)\n",
    "#sns.pointplot(x=\"JOB\", y=\"VALUE\", hue=\"BAD\", data=df)\n",
    "\n",
    "plt.tight_layout()"
   ]
  },
  {
   "cell_type": "code",
   "execution_count": 60,
   "metadata": {},
   "outputs": [
    {
     "data": {
      "text/plain": [
       "<matplotlib.axes._subplots.AxesSubplot at 0x1928db9ec50>"
      ]
     },
     "execution_count": 60,
     "metadata": {},
     "output_type": "execute_result"
    },
    {
     "data": {
      "image/png": "[encoded data removed]",
      "text/plain": [
       "<Figure size 432x288 with 1 Axes>"
      ]
     },
     "metadata": {
      "needs_background": "light"
     },
     "output_type": "display_data"
    }
   ],
   "source": [
    "#sns.set()\n",
    "order=[\"Other\",\"ProfExe\",\"Office\",\"Mgr\",\"Self\",\"Sales\"]\n",
    "\n",
    "sns.countplot(x=\"JOB\", order=order, data=df)"
   ]
  },
  {
   "cell_type": "markdown",
   "metadata": {},
   "source": [
    "### Initial Modeling"
   ]
  },
  {
   "cell_type": "code",
   "execution_count": 61,
   "metadata": {},
   "outputs": [],
   "source": [
    "import scipy as sci\n",
    "import sklearn as sl"
   ]
  },
  {
   "cell_type": "markdown",
   "metadata": {},
   "source": [
    "First, we will fit a simple model with all of the explanatory variables to get a idea of predictive baseline performance."
   ]
  },
  {
   "cell_type": "code",
   "execution_count": 62,
   "metadata": {},
   "outputs": [],
   "source": [
    "# Create dummy variables and drop the baseline dummy\n",
    "df_dummies = pd.get_dummies(df_NoNaN,columns=['REASON', 'JOB'], drop_first=True)"
   ]
  },
  {
   "cell_type": "code",
   "execution_count": 63,
   "metadata": {},
   "outputs": [
    {
     "data": {
      "text/html": [
       "<div>\n",
       "<style scoped>\n",
       "    .dataframe tbody tr th:only-of-type {\n",
       "        vertical-align: middle;\n",
       "    }\n",
       "\n",
       "    .dataframe tbody tr th {\n",
       "        vertical-align: top;\n",
       "    }\n",
       "\n",
       "    .dataframe thead th {\n",
       "        text-align: right;\n",
       "    }\n",
       "</style>\n",
       "<table border=\"1\" class=\"dataframe\">\n",
       "  <thead>\n",
       "    <tr style=\"text-align: right;\">\n",
       "      <th></th>\n",
       "      <th>BAD</th>\n",
       "      <th>LOAN</th>\n",
       "      <th>MORTDUE</th>\n",
       "      <th>YOJ</th>\n",
       "      <th>DEROG</th>\n",
       "      <th>DELINQ</th>\n",
       "      <th>CLAGE</th>\n",
       "      <th>NINQ</th>\n",
       "      <th>CLNO</th>\n",
       "      <th>DEBTINC</th>\n",
       "      <th>REASON_HomeImp</th>\n",
       "      <th>JOB_Office</th>\n",
       "      <th>JOB_Other</th>\n",
       "      <th>JOB_ProfExe</th>\n",
       "      <th>JOB_Sales</th>\n",
       "      <th>JOB_Self</th>\n",
       "    </tr>\n",
       "  </thead>\n",
       "  <tbody>\n",
       "    <tr>\n",
       "      <th>5</th>\n",
       "      <td>1</td>\n",
       "      <td>1700</td>\n",
       "      <td>30548.0</td>\n",
       "      <td>9.0</td>\n",
       "      <td>0.0</td>\n",
       "      <td>0.0</td>\n",
       "      <td>101.466002</td>\n",
       "      <td>1.0</td>\n",
       "      <td>8.0</td>\n",
       "      <td>37.113614</td>\n",
       "      <td>1</td>\n",
       "      <td>0</td>\n",
       "      <td>1</td>\n",
       "      <td>0</td>\n",
       "      <td>0</td>\n",
       "      <td>0</td>\n",
       "    </tr>\n",
       "    <tr>\n",
       "      <th>7</th>\n",
       "      <td>1</td>\n",
       "      <td>1800</td>\n",
       "      <td>28502.0</td>\n",
       "      <td>11.0</td>\n",
       "      <td>0.0</td>\n",
       "      <td>0.0</td>\n",
       "      <td>88.766030</td>\n",
       "      <td>0.0</td>\n",
       "      <td>8.0</td>\n",
       "      <td>36.884894</td>\n",
       "      <td>1</td>\n",
       "      <td>0</td>\n",
       "      <td>1</td>\n",
       "      <td>0</td>\n",
       "      <td>0</td>\n",
       "      <td>0</td>\n",
       "    </tr>\n",
       "    <tr>\n",
       "      <th>19</th>\n",
       "      <td>0</td>\n",
       "      <td>2300</td>\n",
       "      <td>102370.0</td>\n",
       "      <td>2.0</td>\n",
       "      <td>0.0</td>\n",
       "      <td>0.0</td>\n",
       "      <td>90.992533</td>\n",
       "      <td>0.0</td>\n",
       "      <td>13.0</td>\n",
       "      <td>31.588503</td>\n",
       "      <td>1</td>\n",
       "      <td>1</td>\n",
       "      <td>0</td>\n",
       "      <td>0</td>\n",
       "      <td>0</td>\n",
       "      <td>0</td>\n",
       "    </tr>\n",
       "    <tr>\n",
       "      <th>25</th>\n",
       "      <td>1</td>\n",
       "      <td>2400</td>\n",
       "      <td>34863.0</td>\n",
       "      <td>12.0</td>\n",
       "      <td>0.0</td>\n",
       "      <td>0.0</td>\n",
       "      <td>70.491080</td>\n",
       "      <td>1.0</td>\n",
       "      <td>21.0</td>\n",
       "      <td>38.263601</td>\n",
       "      <td>1</td>\n",
       "      <td>0</td>\n",
       "      <td>0</td>\n",
       "      <td>0</td>\n",
       "      <td>0</td>\n",
       "      <td>0</td>\n",
       "    </tr>\n",
       "    <tr>\n",
       "      <th>26</th>\n",
       "      <td>0</td>\n",
       "      <td>2400</td>\n",
       "      <td>98449.0</td>\n",
       "      <td>4.0</td>\n",
       "      <td>0.0</td>\n",
       "      <td>0.0</td>\n",
       "      <td>93.811775</td>\n",
       "      <td>0.0</td>\n",
       "      <td>13.0</td>\n",
       "      <td>29.681827</td>\n",
       "      <td>1</td>\n",
       "      <td>1</td>\n",
       "      <td>0</td>\n",
       "      <td>0</td>\n",
       "      <td>0</td>\n",
       "      <td>0</td>\n",
       "    </tr>\n",
       "  </tbody>\n",
       "</table>\n",
       "</div>"
      ],
      "text/plain": [
       "    BAD  LOAN   MORTDUE   YOJ  DEROG  DELINQ       CLAGE  NINQ  CLNO  \\\n",
       "5     1  1700   30548.0   9.0    0.0     0.0  101.466002   1.0   8.0   \n",
       "7     1  1800   28502.0  11.0    0.0     0.0   88.766030   0.0   8.0   \n",
       "19    0  2300  102370.0   2.0    0.0     0.0   90.992533   0.0  13.0   \n",
       "25    1  2400   34863.0  12.0    0.0     0.0   70.491080   1.0  21.0   \n",
       "26    0  2400   98449.0   4.0    0.0     0.0   93.811775   0.0  13.0   \n",
       "\n",
       "      DEBTINC  REASON_HomeImp  JOB_Office  JOB_Other  JOB_ProfExe  JOB_Sales  \\\n",
       "5   37.113614               1           0          1            0          0   \n",
       "7   36.884894               1           0          1            0          0   \n",
       "19  31.588503               1           1          0            0          0   \n",
       "25  38.263601               1           0          0            0          0   \n",
       "26  29.681827               1           1          0            0          0   \n",
       "\n",
       "    JOB_Self  \n",
       "5          0  \n",
       "7          0  \n",
       "19         0  \n",
       "25         0  \n",
       "26         0  "
      ]
     },
     "execution_count": 63,
     "metadata": {},
     "output_type": "execute_result"
    }
   ],
   "source": [
    "# Check to ensure dummy variables were created.False\n",
    "df_dummies.head()"
   ]
  },
  {
   "cell_type": "code",
   "execution_count": 64,
   "metadata": {},
   "outputs": [],
   "source": [
    "# Scale continuous variables except response and dummy variables. <br> \n",
    "# Interpretation of coefficients may be difficult as a result\n",
    "\n",
    "#from sklearn.preprocessing import MinMaxScaler\n",
    "from sklearn.preprocessing import MinMaxScaler\n",
    "\n",
    "# scaler = preprocessing.StandardScaler()\n",
    "scaler = MinMaxScaler()\n",
    "\n",
    "# Standardize everything EXCEPT the indicatior variables\n",
    "df_dummies[['LOAN','MORTDUE','YOJ',\n",
    "            'DEROG','DELINQ',\n",
    "            'CLAGE','NINQ',\n",
    "            'CLNO','DEBTINC']] = scaler.fit_transform(df_dummies[['LOAN','MORTDUE','YOJ',\n",
    "                                                                  'DEROG','DELINQ',\n",
    "                                                                  'CLAGE','NINQ',\n",
    "                                                                  'CLNO','DEBTINC']])"
   ]
  },
  {
   "cell_type": "code",
   "execution_count": 65,
   "metadata": {},
   "outputs": [
    {
     "data": {
      "text/html": [
       "<div>\n",
       "<style scoped>\n",
       "    .dataframe tbody tr th:only-of-type {\n",
       "        vertical-align: middle;\n",
       "    }\n",
       "\n",
       "    .dataframe tbody tr th {\n",
       "        vertical-align: top;\n",
       "    }\n",
       "\n",
       "    .dataframe thead th {\n",
       "        text-align: right;\n",
       "    }\n",
       "</style>\n",
       "<table border=\"1\" class=\"dataframe\">\n",
       "  <thead>\n",
       "    <tr style=\"text-align: right;\">\n",
       "      <th></th>\n",
       "      <th>BAD</th>\n",
       "      <th>LOAN</th>\n",
       "      <th>MORTDUE</th>\n",
       "      <th>YOJ</th>\n",
       "      <th>DEROG</th>\n",
       "      <th>DELINQ</th>\n",
       "      <th>CLAGE</th>\n",
       "      <th>NINQ</th>\n",
       "      <th>CLNO</th>\n",
       "      <th>DEBTINC</th>\n",
       "      <th>REASON_HomeImp</th>\n",
       "      <th>JOB_Office</th>\n",
       "      <th>JOB_Other</th>\n",
       "      <th>JOB_ProfExe</th>\n",
       "      <th>JOB_Sales</th>\n",
       "      <th>JOB_Self</th>\n",
       "    </tr>\n",
       "  </thead>\n",
       "  <tbody>\n",
       "    <tr>\n",
       "      <th>5</th>\n",
       "      <td>1</td>\n",
       "      <td>0.000000</td>\n",
       "      <td>0.064595</td>\n",
       "      <td>0.219512</td>\n",
       "      <td>0.0</td>\n",
       "      <td>0.0</td>\n",
       "      <td>0.086474</td>\n",
       "      <td>0.076923</td>\n",
       "      <td>0.125000</td>\n",
       "      <td>0.253054</td>\n",
       "      <td>1</td>\n",
       "      <td>0</td>\n",
       "      <td>1</td>\n",
       "      <td>0</td>\n",
       "      <td>0</td>\n",
       "      <td>0</td>\n",
       "    </tr>\n",
       "    <tr>\n",
       "      <th>7</th>\n",
       "      <td>1</td>\n",
       "      <td>0.001134</td>\n",
       "      <td>0.059406</td>\n",
       "      <td>0.268293</td>\n",
       "      <td>0.0</td>\n",
       "      <td>0.0</td>\n",
       "      <td>0.075598</td>\n",
       "      <td>0.000000</td>\n",
       "      <td>0.125000</td>\n",
       "      <td>0.251458</td>\n",
       "      <td>1</td>\n",
       "      <td>0</td>\n",
       "      <td>1</td>\n",
       "      <td>0</td>\n",
       "      <td>0</td>\n",
       "      <td>0</td>\n",
       "    </tr>\n",
       "    <tr>\n",
       "      <th>19</th>\n",
       "      <td>0</td>\n",
       "      <td>0.006803</td>\n",
       "      <td>0.246729</td>\n",
       "      <td>0.048780</td>\n",
       "      <td>0.0</td>\n",
       "      <td>0.0</td>\n",
       "      <td>0.077505</td>\n",
       "      <td>0.000000</td>\n",
       "      <td>0.203125</td>\n",
       "      <td>0.214511</td>\n",
       "      <td>1</td>\n",
       "      <td>1</td>\n",
       "      <td>0</td>\n",
       "      <td>0</td>\n",
       "      <td>0</td>\n",
       "      <td>0</td>\n",
       "    </tr>\n",
       "    <tr>\n",
       "      <th>25</th>\n",
       "      <td>1</td>\n",
       "      <td>0.007937</td>\n",
       "      <td>0.075537</td>\n",
       "      <td>0.292683</td>\n",
       "      <td>0.0</td>\n",
       "      <td>0.0</td>\n",
       "      <td>0.059948</td>\n",
       "      <td>0.076923</td>\n",
       "      <td>0.328125</td>\n",
       "      <td>0.261076</td>\n",
       "      <td>1</td>\n",
       "      <td>0</td>\n",
       "      <td>0</td>\n",
       "      <td>0</td>\n",
       "      <td>0</td>\n",
       "      <td>0</td>\n",
       "    </tr>\n",
       "    <tr>\n",
       "      <th>26</th>\n",
       "      <td>0</td>\n",
       "      <td>0.007937</td>\n",
       "      <td>0.236785</td>\n",
       "      <td>0.097561</td>\n",
       "      <td>0.0</td>\n",
       "      <td>0.0</td>\n",
       "      <td>0.079919</td>\n",
       "      <td>0.000000</td>\n",
       "      <td>0.203125</td>\n",
       "      <td>0.201211</td>\n",
       "      <td>1</td>\n",
       "      <td>1</td>\n",
       "      <td>0</td>\n",
       "      <td>0</td>\n",
       "      <td>0</td>\n",
       "      <td>0</td>\n",
       "    </tr>\n",
       "  </tbody>\n",
       "</table>\n",
       "</div>"
      ],
      "text/plain": [
       "    BAD      LOAN   MORTDUE       YOJ  DEROG  DELINQ     CLAGE      NINQ  \\\n",
       "5     1  0.000000  0.064595  0.219512    0.0     0.0  0.086474  0.076923   \n",
       "7     1  0.001134  0.059406  0.268293    0.0     0.0  0.075598  0.000000   \n",
       "19    0  0.006803  0.246729  0.048780    0.0     0.0  0.077505  0.000000   \n",
       "25    1  0.007937  0.075537  0.292683    0.0     0.0  0.059948  0.076923   \n",
       "26    0  0.007937  0.236785  0.097561    0.0     0.0  0.079919  0.000000   \n",
       "\n",
       "        CLNO   DEBTINC  REASON_HomeImp  JOB_Office  JOB_Other  JOB_ProfExe  \\\n",
       "5   0.125000  0.253054               1           0          1            0   \n",
       "7   0.125000  0.251458               1           0          1            0   \n",
       "19  0.203125  0.214511               1           1          0            0   \n",
       "25  0.328125  0.261076               1           0          0            0   \n",
       "26  0.203125  0.201211               1           1          0            0   \n",
       "\n",
       "    JOB_Sales  JOB_Self  \n",
       "5           0         0  \n",
       "7           0         0  \n",
       "19          0         0  \n",
       "25          0         0  \n",
       "26          0         0  "
      ]
     },
     "execution_count": 65,
     "metadata": {},
     "output_type": "execute_result"
    }
   ],
   "source": [
    "# Ensure varaibles have been scalled between 0 and 1\n",
    "df_dummies.head()"
   ]
  },
  {
   "cell_type": "code",
   "execution_count": 66,
   "metadata": {},
   "outputs": [],
   "source": [
    "#Create target and feature variables\n",
    "features = ['LOAN','MORTDUE','YOJ','DEROG','DELINQ','CLAGE','NINQ','CLNO','DEBTINC',\n",
    "           'REASON_HomeImp', 'JOB_Office', 'JOB_Other', 'JOB_ProfExe', 'JOB_Sales', 'JOB_Self']\n",
    "\n",
    "#Create feature\n",
    "X = df_dummies[features] \n",
    "\n",
    "#Create Target\n",
    "y = df_dummies['BAD']"
   ]
  },
  {
   "cell_type": "code",
   "execution_count": 67,
   "metadata": {},
   "outputs": [],
   "source": [
    "from sklearn.model_selection import train_test_split\n",
    "\n",
    "# 75/25 training/test split. random_state equivalent to set.seed in R\n",
    "X_train, X_test, y_train, y_test = train_test_split(X, y, test_size=0.20, random_state=7)"
   ]
  },
  {
   "cell_type": "markdown",
   "metadata": {},
   "source": [
    "### LASSO Regression Model (LRM)\n",
    "using Scikit Learn Library"
   ]
  },
  {
   "cell_type": "code",
   "execution_count": 68,
   "metadata": {},
   "outputs": [],
   "source": [
    "from sklearn.linear_model import LogisticRegression\n",
    "\n",
    "#Optimizing logistic function with L1 penalty (LASSO)\n",
    "logreg = LogisticRegression(penalty='l1', solver='liblinear')\n",
    "lrf = logreg.fit(X_train, y_train)\n",
    "y_pred = logreg.predict(X_test)"
   ]
  },
  {
   "cell_type": "markdown",
   "metadata": {},
   "source": [
    "It looks like the Lasso Regression Model worked as expected. Two of the variable coefficients were shrunk toward zero, essentially removing them from the model."
   ]
  },
  {
   "cell_type": "code",
   "execution_count": 69,
   "metadata": {},
   "outputs": [
    {
     "name": "stdout",
     "output_type": "stream",
     "text": [
      "[[-0.93101946  0.         -0.19356227  6.26505316  6.33421611 -5.9379559\n",
      "   1.02863827 -0.34164104 10.91971081 -0.05152998 -0.6053611   0.\n",
      "  -0.17419973  0.93145371  0.39305757]]\n",
      "features = ['LOAN','MORTDUE','YOJ','DEROG','DELINQ','CLAGE','NINQ','CLNO','DEBTINC', 'REASON_HomeImp', 'JOB_Office', 'JOB_Other', 'JOB_ProfExe', 'JOB_Sales', 'JOB_Self']\n"
     ]
    }
   ],
   "source": [
    "# Still need to figure out how to print summary table. Sklearn doesn't allow.\n",
    "print(lrf.coef_)\n",
    "\n",
    "#Labels for coefficient\n",
    "print(\"features = ['LOAN','MORTDUE','YOJ','DEROG','DELINQ','CLAGE','NINQ','CLNO','DEBTINC', 'REASON_HomeImp', 'JOB_Office', 'JOB_Other', 'JOB_ProfExe', 'JOB_Sales', 'JOB_Self']\")"
   ]
  },
  {
   "cell_type": "markdown",
   "metadata": {},
   "source": [
    "### LRM Model Evaluation"
   ]
  },
  {
   "cell_type": "code",
   "execution_count": 76,
   "metadata": {},
   "outputs": [],
   "source": [
    "# Define confusion matrix for LRM\n",
    "from sklearn.metrics import confusion_matrix\n",
    "\n",
    "cnf_matrix = confusion_matrix(y_test,y_pred)"
   ]
  },
  {
   "cell_type": "code",
   "execution_count": 77,
   "metadata": {},
   "outputs": [],
   "source": [
    "# Define confusion matrix for LRM\n",
    "from sklearn.metrics import confusion_matrix\n",
    "\n",
    "cnf_matrix = confusion_matrix(y_test,y_pred)"
   ]
  },
  {
   "cell_type": "code",
   "execution_count": 78,
   "metadata": {},
   "outputs": [
    {
     "data": {
      "text/plain": [
       "array([[615,   3],\n",
       "       [ 43,  12]], dtype=int64)"
      ]
     },
     "execution_count": 78,
     "metadata": {},
     "output_type": "execute_result"
    }
   ],
   "source": [
    "confusion_matrix(y_test,y_pred)"
   ]
  },
  {
   "attachments": {
    "Screen%20Shot%202019-04-14%20at%203.57.48%20PM.png": {
     "image/png": "[encoded data removed]"
    }
   },
   "cell_type": "markdown",
   "metadata": {},
   "source": [
    "![Screen%20Shot%202019-04-14%20at%203.57.48%20PM.png](attachment:Screen%20Shot%202019-04-14%20at%203.57.48%20PM.png)"
   ]
  },
  {
   "cell_type": "code",
   "execution_count": 79,
   "metadata": {},
   "outputs": [
    {
     "data": {
      "text/plain": [
       "93.16"
      ]
     },
     "execution_count": 79,
     "metadata": {},
     "output_type": "execute_result"
    }
   ],
   "source": [
    "from sklearn.metrics import accuracy_score\n",
    "\n",
    "LRMscore = accuracy_score(y_test,y_pred) \n",
    "\n",
    "round(LRMscore*100,2)"
   ]
  },
  {
   "cell_type": "code",
   "execution_count": 82,
   "metadata": {},
   "outputs": [],
   "source": [
    "# Define confusion matrix for LRM\n",
    "from sklearn.metrics import confusion_matrix\n",
    "\n",
    "# Define plot. Given by sklearn website\n",
    "def plot_confusion_matrix(cm,\n",
    "                          target_names,\n",
    "                          title='Confusion matrix',\n",
    "                          cmap=None,\n",
    "                          normalize=True):\n",
    "\n",
    "    plt.figure(figsize=(12,8))\n",
    "\n",
    "\n",
    "    plot_confusion_matrix(cm           = cnf_matrix, \n",
    "                      normalize    = False,\n",
    "                      target_names = ['Paid', 'Default'],\n",
    "                      title        = \"Confusion Matrix\")\n",
    "\n",
    "    plot_confusion_matrix(cm           = cnf_matrix, \n",
    "                      normalize    = True,\n",
    "                      target_names = ['Paid', 'Default'],\n",
    "                      title        = \"Confusion Matrix, Normalized\")\n",
    "\n",
    "    plt.tight_layout()"
   ]
  },
  {
   "cell_type": "code",
   "execution_count": 83,
   "metadata": {},
   "outputs": [
    {
     "name": "stdout",
     "output_type": "stream",
     "text": [
      "              precision    recall  f1-score   support\n",
      "\n",
      "           0       0.93      1.00      0.96       618\n",
      "           1       0.80      0.22      0.34        55\n",
      "\n",
      "   micro avg       0.93      0.93      0.93       673\n",
      "   macro avg       0.87      0.61      0.65       673\n",
      "weighted avg       0.92      0.93      0.91       673\n",
      "\n"
     ]
    }
   ],
   "source": [
    "# Precision = \n",
    "# Recall = how many of the observed cases were correctly predicted?\n",
    "from sklearn.metrics import classification_report\n",
    "\n",
    "print(classification_report(y_test, y_pred))\n"
   ]
  },
  {
   "cell_type": "code",
   "execution_count": 84,
   "metadata": {},
   "outputs": [
    {
     "name": "stdout",
     "output_type": "stream",
     "text": [
      "AUC: 0.803\n"
     ]
    },
    {
     "data": {
      "image/png": "[encoded data removed]",
      "text/plain": [
       "<Figure size 864x576 with 1 Axes>"
      ]
     },
     "metadata": {
      "needs_background": "light"
     },
     "output_type": "display_data"
    }
   ],
   "source": [
    "#LRM Model Lack of Fit with AUC\n",
    "\n",
    "import numpy as np\n",
    "from sklearn.metrics import roc_curve\n",
    "from sklearn.metrics import roc_auc_score\n",
    "from matplotlib import pyplot\n",
    "\n",
    "plt.figure(figsize=(12,8))\n",
    "plt.title(\"AUC for LRM\")\n",
    "\n",
    "# predict probabilities\n",
    "probs = logreg.predict_proba(X_test)\n",
    "# keep probabilities for the positive outcome only\n",
    "probs = probs[:, 1]\n",
    "# calculate AUC\n",
    "auc = roc_auc_score(y_test, probs)\n",
    "print('AUC: %.3f' % auc)\n",
    "# calculate roc curve\n",
    "fpr, tpr, thresholds = roc_curve(y_test, probs)\n",
    "# plot no skill\n",
    "pyplot.plot([0, 1], [0, 1], linestyle='--')\n",
    "# plot the roc curve for the model\n",
    "pyplot.plot(fpr, tpr, marker='.')\n",
    "# show the plot\n",
    "pyplot.show()\n",
    "\n"
   ]
  },
  {
   "cell_type": "markdown",
   "metadata": {},
   "source": [
    "### Elastic Net  Regression\n",
    "##THIS IS NOT COMPLETE\n",
    "from Sklearn Library\n",
    "#ref https://scikit-learn.org/stable/modules/generated/sklearn.linear_model.ElasticNet.html\n",
    "#ref https://www.oreilly.com/library/view/hands-on-machine-learning/9781491962282/ch04.html"
   ]
  },
  {
   "cell_type": "code",
   "execution_count": 85,
   "metadata": {},
   "outputs": [],
   "source": [
    "from sklearn.linear_model import ElasticNet\n",
    "from sklearn.datasets import make_regression\n",
    "\n",
    "#Optimizing logistic function with ElasticNet L1 ratio\n",
    "elastic_net = ElasticNet(alpha=0.1, l1_ratio=0.5)\n",
    "ENRf = elastic_net.fit(X_train, y_train)\n",
    "ENRy_pred = elastic_net.predict(X_test)\n"
   ]
  },
  {
   "cell_type": "code",
   "execution_count": 86,
   "metadata": {},
   "outputs": [
    {
     "name": "stdout",
     "output_type": "stream",
     "text": [
      "[-0. -0. -0.  0.  0. -0.  0.  0.  0. -0. -0.  0. -0.  0.  0.]\n",
      "features = ['LOAN','MORTDUE','YOJ','DEROG','DELINQ','CLAGE','NINQ','CLNO','DEBTINC', 'REASON_HomeImp', 'JOB_Office', 'JOB_Other', 'JOB_ProfExe', 'JOB_Sales', 'JOB_Self']\n"
     ]
    }
   ],
   "source": [
    "# Still need to figure out how to print summary table. Sklearn doesn't allow.\n",
    "print(ENRf.coef_)\n",
    "\n",
    "#Labels for coefficient\n",
    "print(\"features = ['LOAN','MORTDUE','YOJ','DEROG','DELINQ','CLAGE','NINQ','CLNO','DEBTINC', 'REASON_HomeImp', 'JOB_Office', 'JOB_Other', 'JOB_ProfExe', 'JOB_Sales', 'JOB_Self']\")"
   ]
  },
  {
   "cell_type": "markdown",
   "metadata": {},
   "source": [
    "### ENR Model Evaluation"
   ]
  },
  {
   "cell_type": "code",
   "execution_count": 87,
   "metadata": {},
   "outputs": [
    {
     "ename": "ValueError",
     "evalue": "Classification metrics can't handle a mix of binary and continuous targets",
     "output_type": "error",
     "traceback": [
      "\u001b[1;31m---------------------------------------------------------------------------\u001b[0m",
      "\u001b[1;31mValueError\u001b[0m                                Traceback (most recent call last)",
      "\u001b[1;32m<ipython-input-87-2bbcc8c93462>\u001b[0m in \u001b[0;36m<module>\u001b[1;34m\u001b[0m\n\u001b[0;32m      2\u001b[0m \u001b[1;32mfrom\u001b[0m \u001b[0msklearn\u001b[0m\u001b[1;33m.\u001b[0m\u001b[0mmetrics\u001b[0m \u001b[1;32mimport\u001b[0m \u001b[0mconfusion_matrix\u001b[0m\u001b[1;33m\u001b[0m\u001b[1;33m\u001b[0m\u001b[0m\n\u001b[0;32m      3\u001b[0m \u001b[1;33m\u001b[0m\u001b[0m\n\u001b[1;32m----> 4\u001b[1;33m \u001b[0mENRcnf_matrix\u001b[0m \u001b[1;33m=\u001b[0m \u001b[0mconfusion_matrix\u001b[0m\u001b[1;33m(\u001b[0m\u001b[0my_test\u001b[0m\u001b[1;33m,\u001b[0m\u001b[0mENRy_pred\u001b[0m\u001b[1;33m)\u001b[0m\u001b[1;33m\u001b[0m\u001b[1;33m\u001b[0m\u001b[0m\n\u001b[0m",
      "\u001b[1;32m~\\AppData\\Local\\Continuum\\miniconda3\\envs\\py_env\\lib\\site-packages\\sklearn\\metrics\\classification.py\u001b[0m in \u001b[0;36mconfusion_matrix\u001b[1;34m(y_true, y_pred, labels, sample_weight)\u001b[0m\n\u001b[0;32m    251\u001b[0m \u001b[1;33m\u001b[0m\u001b[0m\n\u001b[0;32m    252\u001b[0m     \"\"\"\n\u001b[1;32m--> 253\u001b[1;33m     \u001b[0my_type\u001b[0m\u001b[1;33m,\u001b[0m \u001b[0my_true\u001b[0m\u001b[1;33m,\u001b[0m \u001b[0my_pred\u001b[0m \u001b[1;33m=\u001b[0m \u001b[0m_check_targets\u001b[0m\u001b[1;33m(\u001b[0m\u001b[0my_true\u001b[0m\u001b[1;33m,\u001b[0m \u001b[0my_pred\u001b[0m\u001b[1;33m)\u001b[0m\u001b[1;33m\u001b[0m\u001b[1;33m\u001b[0m\u001b[0m\n\u001b[0m\u001b[0;32m    254\u001b[0m     \u001b[1;32mif\u001b[0m \u001b[0my_type\u001b[0m \u001b[1;32mnot\u001b[0m \u001b[1;32min\u001b[0m \u001b[1;33m(\u001b[0m\u001b[1;34m\"binary\"\u001b[0m\u001b[1;33m,\u001b[0m \u001b[1;34m\"multiclass\"\u001b[0m\u001b[1;33m)\u001b[0m\u001b[1;33m:\u001b[0m\u001b[1;33m\u001b[0m\u001b[1;33m\u001b[0m\u001b[0m\n\u001b[0;32m    255\u001b[0m         \u001b[1;32mraise\u001b[0m \u001b[0mValueError\u001b[0m\u001b[1;33m(\u001b[0m\u001b[1;34m\"%s is not supported\"\u001b[0m \u001b[1;33m%\u001b[0m \u001b[0my_type\u001b[0m\u001b[1;33m)\u001b[0m\u001b[1;33m\u001b[0m\u001b[1;33m\u001b[0m\u001b[0m\n",
      "\u001b[1;32m~\\AppData\\Local\\Continuum\\miniconda3\\envs\\py_env\\lib\\site-packages\\sklearn\\metrics\\classification.py\u001b[0m in \u001b[0;36m_check_targets\u001b[1;34m(y_true, y_pred)\u001b[0m\n\u001b[0;32m     79\u001b[0m     \u001b[1;32mif\u001b[0m \u001b[0mlen\u001b[0m\u001b[1;33m(\u001b[0m\u001b[0my_type\u001b[0m\u001b[1;33m)\u001b[0m \u001b[1;33m>\u001b[0m \u001b[1;36m1\u001b[0m\u001b[1;33m:\u001b[0m\u001b[1;33m\u001b[0m\u001b[1;33m\u001b[0m\u001b[0m\n\u001b[0;32m     80\u001b[0m         raise ValueError(\"Classification metrics can't handle a mix of {0} \"\n\u001b[1;32m---> 81\u001b[1;33m                          \"and {1} targets\".format(type_true, type_pred))\n\u001b[0m\u001b[0;32m     82\u001b[0m \u001b[1;33m\u001b[0m\u001b[0m\n\u001b[0;32m     83\u001b[0m     \u001b[1;31m# We can't have more than one value on y_type => The set is no more needed\u001b[0m\u001b[1;33m\u001b[0m\u001b[1;33m\u001b[0m\u001b[1;33m\u001b[0m\u001b[0m\n",
      "\u001b[1;31mValueError\u001b[0m: Classification metrics can't handle a mix of binary and continuous targets"
     ]
    }
   ],
   "source": [
    "# Define confusion matrix for LRM\n",
    "from sklearn.metrics import confusion_matrix\n",
    "\n",
    "ENRcnf_matrix = confusion_matrix(y_test,ENRy_pred)"
   ]
  },
  {
   "cell_type": "code",
   "execution_count": 88,
   "metadata": {},
   "outputs": [
    {
     "ename": "ValueError",
     "evalue": "Classification metrics can't handle a mix of binary and continuous targets",
     "output_type": "error",
     "traceback": [
      "\u001b[1;31m---------------------------------------------------------------------------\u001b[0m",
      "\u001b[1;31mValueError\u001b[0m                                Traceback (most recent call last)",
      "\u001b[1;32m<ipython-input-88-2bbcc8c93462>\u001b[0m in \u001b[0;36m<module>\u001b[1;34m\u001b[0m\n\u001b[0;32m      2\u001b[0m \u001b[1;32mfrom\u001b[0m \u001b[0msklearn\u001b[0m\u001b[1;33m.\u001b[0m\u001b[0mmetrics\u001b[0m \u001b[1;32mimport\u001b[0m \u001b[0mconfusion_matrix\u001b[0m\u001b[1;33m\u001b[0m\u001b[1;33m\u001b[0m\u001b[0m\n\u001b[0;32m      3\u001b[0m \u001b[1;33m\u001b[0m\u001b[0m\n\u001b[1;32m----> 4\u001b[1;33m \u001b[0mENRcnf_matrix\u001b[0m \u001b[1;33m=\u001b[0m \u001b[0mconfusion_matrix\u001b[0m\u001b[1;33m(\u001b[0m\u001b[0my_test\u001b[0m\u001b[1;33m,\u001b[0m\u001b[0mENRy_pred\u001b[0m\u001b[1;33m)\u001b[0m\u001b[1;33m\u001b[0m\u001b[1;33m\u001b[0m\u001b[0m\n\u001b[0m",
      "\u001b[1;32m~\\AppData\\Local\\Continuum\\miniconda3\\envs\\py_env\\lib\\site-packages\\sklearn\\metrics\\classification.py\u001b[0m in \u001b[0;36mconfusion_matrix\u001b[1;34m(y_true, y_pred, labels, sample_weight)\u001b[0m\n\u001b[0;32m    251\u001b[0m \u001b[1;33m\u001b[0m\u001b[0m\n\u001b[0;32m    252\u001b[0m     \"\"\"\n\u001b[1;32m--> 253\u001b[1;33m     \u001b[0my_type\u001b[0m\u001b[1;33m,\u001b[0m \u001b[0my_true\u001b[0m\u001b[1;33m,\u001b[0m \u001b[0my_pred\u001b[0m \u001b[1;33m=\u001b[0m \u001b[0m_check_targets\u001b[0m\u001b[1;33m(\u001b[0m\u001b[0my_true\u001b[0m\u001b[1;33m,\u001b[0m \u001b[0my_pred\u001b[0m\u001b[1;33m)\u001b[0m\u001b[1;33m\u001b[0m\u001b[1;33m\u001b[0m\u001b[0m\n\u001b[0m\u001b[0;32m    254\u001b[0m     \u001b[1;32mif\u001b[0m \u001b[0my_type\u001b[0m \u001b[1;32mnot\u001b[0m \u001b[1;32min\u001b[0m \u001b[1;33m(\u001b[0m\u001b[1;34m\"binary\"\u001b[0m\u001b[1;33m,\u001b[0m \u001b[1;34m\"multiclass\"\u001b[0m\u001b[1;33m)\u001b[0m\u001b[1;33m:\u001b[0m\u001b[1;33m\u001b[0m\u001b[1;33m\u001b[0m\u001b[0m\n\u001b[0;32m    255\u001b[0m         \u001b[1;32mraise\u001b[0m \u001b[0mValueError\u001b[0m\u001b[1;33m(\u001b[0m\u001b[1;34m\"%s is not supported\"\u001b[0m \u001b[1;33m%\u001b[0m \u001b[0my_type\u001b[0m\u001b[1;33m)\u001b[0m\u001b[1;33m\u001b[0m\u001b[1;33m\u001b[0m\u001b[0m\n",
      "\u001b[1;32m~\\AppData\\Local\\Continuum\\miniconda3\\envs\\py_env\\lib\\site-packages\\sklearn\\metrics\\classification.py\u001b[0m in \u001b[0;36m_check_targets\u001b[1;34m(y_true, y_pred)\u001b[0m\n\u001b[0;32m     79\u001b[0m     \u001b[1;32mif\u001b[0m \u001b[0mlen\u001b[0m\u001b[1;33m(\u001b[0m\u001b[0my_type\u001b[0m\u001b[1;33m)\u001b[0m \u001b[1;33m>\u001b[0m \u001b[1;36m1\u001b[0m\u001b[1;33m:\u001b[0m\u001b[1;33m\u001b[0m\u001b[1;33m\u001b[0m\u001b[0m\n\u001b[0;32m     80\u001b[0m         raise ValueError(\"Classification metrics can't handle a mix of {0} \"\n\u001b[1;32m---> 81\u001b[1;33m                          \"and {1} targets\".format(type_true, type_pred))\n\u001b[0m\u001b[0;32m     82\u001b[0m \u001b[1;33m\u001b[0m\u001b[0m\n\u001b[0;32m     83\u001b[0m     \u001b[1;31m# We can't have more than one value on y_type => The set is no more needed\u001b[0m\u001b[1;33m\u001b[0m\u001b[1;33m\u001b[0m\u001b[1;33m\u001b[0m\u001b[0m\n",
      "\u001b[1;31mValueError\u001b[0m: Classification metrics can't handle a mix of binary and continuous targets"
     ]
    }
   ],
   "source": [
    "# Define confusion matrix for LRM\n",
    "from sklearn.metrics import confusion_matrix\n",
    "\n",
    "ENRcnf_matrix = confusion_matrix(y_test,ENRy_pred)"
   ]
  },
  {
   "cell_type": "code",
   "execution_count": 89,
   "metadata": {},
   "outputs": [
    {
     "ename": "NameError",
     "evalue": "name 'score' is not defined",
     "output_type": "error",
     "traceback": [
      "\u001b[1;31m---------------------------------------------------------------------------\u001b[0m",
      "\u001b[1;31mNameError\u001b[0m                                 Traceback (most recent call last)",
      "\u001b[1;32m<ipython-input-89-3e03ead78080>\u001b[0m in \u001b[0;36m<module>\u001b[1;34m\u001b[0m\n\u001b[0;32m      1\u001b[0m \u001b[1;32mfrom\u001b[0m \u001b[0msklearn\u001b[0m\u001b[1;33m.\u001b[0m\u001b[0mmetrics\u001b[0m \u001b[1;32mimport\u001b[0m \u001b[0maccuracy_score\u001b[0m\u001b[1;33m\u001b[0m\u001b[1;33m\u001b[0m\u001b[0m\n\u001b[0;32m      2\u001b[0m \u001b[1;33m\u001b[0m\u001b[0m\n\u001b[1;32m----> 3\u001b[1;33m \u001b[0mENRscore\u001b[0m \u001b[1;33m=\u001b[0m \u001b[0maccuracy_score\u001b[0m\u001b[1;33m(\u001b[0m\u001b[0my_test\u001b[0m\u001b[1;33m,\u001b[0m\u001b[0mround\u001b[0m\u001b[1;33m(\u001b[0m\u001b[0mscore\u001b[0m\u001b[1;33m*\u001b[0m\u001b[1;36m100\u001b[0m\u001b[1;33m,\u001b[0m\u001b[1;36m2\u001b[0m\u001b[1;33m)\u001b[0m\u001b[1;33m)\u001b[0m\u001b[1;33m\u001b[0m\u001b[1;33m\u001b[0m\u001b[0m\n\u001b[0m\u001b[0;32m      4\u001b[0m \u001b[1;33m\u001b[0m\u001b[0m\n\u001b[0;32m      5\u001b[0m \u001b[0mround\u001b[0m\u001b[1;33m(\u001b[0m\u001b[0mENRscore\u001b[0m\u001b[1;33m*\u001b[0m\u001b[1;36m100\u001b[0m\u001b[1;33m,\u001b[0m\u001b[1;36m2\u001b[0m\u001b[1;33m)\u001b[0m\u001b[1;33m\u001b[0m\u001b[1;33m\u001b[0m\u001b[0m\n",
      "\u001b[1;31mNameError\u001b[0m: name 'score' is not defined"
     ]
    }
   ],
   "source": [
    "from sklearn.metrics import accuracy_score\n",
    "\n",
    "ENRscore = accuracy_score(y_test,round(score*100,2)) \n",
    "\n",
    "round(ENRscore*100,2)"
   ]
  },
  {
   "cell_type": "code",
   "execution_count": 90,
   "metadata": {},
   "outputs": [
    {
     "ename": "NameError",
     "evalue": "name 'ENRcnf_matrix' is not defined",
     "output_type": "error",
     "traceback": [
      "\u001b[1;31m---------------------------------------------------------------------------\u001b[0m",
      "\u001b[1;31mNameError\u001b[0m                                 Traceback (most recent call last)",
      "\u001b[1;32m<ipython-input-90-d8d2d9ebaed1>\u001b[0m in \u001b[0;36m<module>\u001b[1;34m\u001b[0m\n\u001b[0;32m      2\u001b[0m \u001b[1;33m\u001b[0m\u001b[0m\n\u001b[0;32m      3\u001b[0m \u001b[1;33m\u001b[0m\u001b[0m\n\u001b[1;32m----> 4\u001b[1;33m plot_confusion_matrix(cm           = ENRcnf_matrix, \n\u001b[0m\u001b[0;32m      5\u001b[0m                       \u001b[0mnormalize\u001b[0m    \u001b[1;33m=\u001b[0m \u001b[1;32mFalse\u001b[0m\u001b[1;33m,\u001b[0m\u001b[1;33m\u001b[0m\u001b[1;33m\u001b[0m\u001b[0m\n\u001b[0;32m      6\u001b[0m                       \u001b[0mtarget_names\u001b[0m \u001b[1;33m=\u001b[0m \u001b[1;33m[\u001b[0m\u001b[1;34m'Paid'\u001b[0m\u001b[1;33m,\u001b[0m \u001b[1;34m'Default'\u001b[0m\u001b[1;33m]\u001b[0m\u001b[1;33m,\u001b[0m\u001b[1;33m\u001b[0m\u001b[1;33m\u001b[0m\u001b[0m\n",
      "\u001b[1;31mNameError\u001b[0m: name 'ENRcnf_matrix' is not defined"
     ]
    },
    {
     "data": {
      "text/plain": [
       "<Figure size 864x576 with 0 Axes>"
      ]
     },
     "metadata": {},
     "output_type": "display_data"
    }
   ],
   "source": [
    "plt.figure(figsize=(12,8))\n",
    "\n",
    "\n",
    "plot_confusion_matrix(cm           = ENRcnf_matrix, \n",
    "                      normalize    = False,\n",
    "                      target_names = ['Paid', 'Default'],\n",
    "                      title        = \"Confusion Matrix\")\n",
    "\n",
    "plot_confusion_matrix(cm           = ENRcnf_matrix, \n",
    "                      normalize    = True,\n",
    "                      target_names = ['Paid', 'Default'],\n",
    "                      title        = \"Confusion Matrix, Normalized\")\n",
    "\n",
    "plt.tight_layout()"
   ]
  },
  {
   "cell_type": "code",
   "execution_count": 91,
   "metadata": {},
   "outputs": [
    {
     "ename": "ValueError",
     "evalue": "Classification metrics can't handle a mix of binary and continuous targets",
     "output_type": "error",
     "traceback": [
      "\u001b[1;31m---------------------------------------------------------------------------\u001b[0m",
      "\u001b[1;31mValueError\u001b[0m                                Traceback (most recent call last)",
      "\u001b[1;32m<ipython-input-91-12f4cdc53d70>\u001b[0m in \u001b[0;36m<module>\u001b[1;34m\u001b[0m\n\u001b[0;32m      3\u001b[0m \u001b[1;32mfrom\u001b[0m \u001b[0msklearn\u001b[0m\u001b[1;33m.\u001b[0m\u001b[0mmetrics\u001b[0m \u001b[1;32mimport\u001b[0m \u001b[0mclassification_report\u001b[0m\u001b[1;33m\u001b[0m\u001b[1;33m\u001b[0m\u001b[0m\n\u001b[0;32m      4\u001b[0m \u001b[1;33m\u001b[0m\u001b[0m\n\u001b[1;32m----> 5\u001b[1;33m \u001b[0mprint\u001b[0m\u001b[1;33m(\u001b[0m\u001b[0mclassification_report\u001b[0m\u001b[1;33m(\u001b[0m\u001b[0my_test\u001b[0m\u001b[1;33m,\u001b[0m \u001b[0mENRy_pred\u001b[0m\u001b[1;33m)\u001b[0m\u001b[1;33m)\u001b[0m\u001b[1;33m\u001b[0m\u001b[1;33m\u001b[0m\u001b[0m\n\u001b[0m",
      "\u001b[1;32m~\\AppData\\Local\\Continuum\\miniconda3\\envs\\py_env\\lib\\site-packages\\sklearn\\metrics\\classification.py\u001b[0m in \u001b[0;36mclassification_report\u001b[1;34m(y_true, y_pred, labels, target_names, sample_weight, digits, output_dict)\u001b[0m\n\u001b[0;32m   1522\u001b[0m     \"\"\"\n\u001b[0;32m   1523\u001b[0m \u001b[1;33m\u001b[0m\u001b[0m\n\u001b[1;32m-> 1524\u001b[1;33m     \u001b[0my_type\u001b[0m\u001b[1;33m,\u001b[0m \u001b[0my_true\u001b[0m\u001b[1;33m,\u001b[0m \u001b[0my_pred\u001b[0m \u001b[1;33m=\u001b[0m \u001b[0m_check_targets\u001b[0m\u001b[1;33m(\u001b[0m\u001b[0my_true\u001b[0m\u001b[1;33m,\u001b[0m \u001b[0my_pred\u001b[0m\u001b[1;33m)\u001b[0m\u001b[1;33m\u001b[0m\u001b[1;33m\u001b[0m\u001b[0m\n\u001b[0m\u001b[0;32m   1525\u001b[0m \u001b[1;33m\u001b[0m\u001b[0m\n\u001b[0;32m   1526\u001b[0m     \u001b[0mlabels_given\u001b[0m \u001b[1;33m=\u001b[0m \u001b[1;32mTrue\u001b[0m\u001b[1;33m\u001b[0m\u001b[1;33m\u001b[0m\u001b[0m\n",
      "\u001b[1;32m~\\AppData\\Local\\Continuum\\miniconda3\\envs\\py_env\\lib\\site-packages\\sklearn\\metrics\\classification.py\u001b[0m in \u001b[0;36m_check_targets\u001b[1;34m(y_true, y_pred)\u001b[0m\n\u001b[0;32m     79\u001b[0m     \u001b[1;32mif\u001b[0m \u001b[0mlen\u001b[0m\u001b[1;33m(\u001b[0m\u001b[0my_type\u001b[0m\u001b[1;33m)\u001b[0m \u001b[1;33m>\u001b[0m \u001b[1;36m1\u001b[0m\u001b[1;33m:\u001b[0m\u001b[1;33m\u001b[0m\u001b[1;33m\u001b[0m\u001b[0m\n\u001b[0;32m     80\u001b[0m         raise ValueError(\"Classification metrics can't handle a mix of {0} \"\n\u001b[1;32m---> 81\u001b[1;33m                          \"and {1} targets\".format(type_true, type_pred))\n\u001b[0m\u001b[0;32m     82\u001b[0m \u001b[1;33m\u001b[0m\u001b[0m\n\u001b[0;32m     83\u001b[0m     \u001b[1;31m# We can't have more than one value on y_type => The set is no more needed\u001b[0m\u001b[1;33m\u001b[0m\u001b[1;33m\u001b[0m\u001b[1;33m\u001b[0m\u001b[0m\n",
      "\u001b[1;31mValueError\u001b[0m: Classification metrics can't handle a mix of binary and continuous targets"
     ]
    }
   ],
   "source": [
    "# Precision = \n",
    "# Recall = how many of the observed cases were correctly predicted?\n",
    "from sklearn.metrics import classification_report\n",
    "\n",
    "print(classification_report(y_test, ENRy_pred))\n"
   ]
  },
  {
   "cell_type": "code",
   "execution_count": 92,
   "metadata": {},
   "outputs": [
    {
     "ename": "AttributeError",
     "evalue": "'ElasticNet' object has no attribute 'predict_proba'",
     "output_type": "error",
     "traceback": [
      "\u001b[1;31m---------------------------------------------------------------------------\u001b[0m",
      "\u001b[1;31mAttributeError\u001b[0m                            Traceback (most recent call last)",
      "\u001b[1;32m<ipython-input-92-540f2e9d204a>\u001b[0m in \u001b[0;36m<module>\u001b[1;34m\u001b[0m\n\u001b[0;32m     10\u001b[0m \u001b[1;33m\u001b[0m\u001b[0m\n\u001b[0;32m     11\u001b[0m \u001b[1;31m# predict probabilities\u001b[0m\u001b[1;33m\u001b[0m\u001b[1;33m\u001b[0m\u001b[1;33m\u001b[0m\u001b[0m\n\u001b[1;32m---> 12\u001b[1;33m \u001b[0mprobs\u001b[0m \u001b[1;33m=\u001b[0m \u001b[0melastic_net\u001b[0m\u001b[1;33m.\u001b[0m\u001b[0mpredict_proba\u001b[0m\u001b[1;33m(\u001b[0m\u001b[0mX_test\u001b[0m\u001b[1;33m)\u001b[0m\u001b[1;33m\u001b[0m\u001b[1;33m\u001b[0m\u001b[0m\n\u001b[0m\u001b[0;32m     13\u001b[0m \u001b[1;31m# keep probabilities for the positive outcome only\u001b[0m\u001b[1;33m\u001b[0m\u001b[1;33m\u001b[0m\u001b[1;33m\u001b[0m\u001b[0m\n\u001b[0;32m     14\u001b[0m \u001b[0mprobs\u001b[0m \u001b[1;33m=\u001b[0m \u001b[0mprobs\u001b[0m\u001b[1;33m[\u001b[0m\u001b[1;33m:\u001b[0m\u001b[1;33m,\u001b[0m \u001b[1;36m1\u001b[0m\u001b[1;33m]\u001b[0m\u001b[1;33m\u001b[0m\u001b[1;33m\u001b[0m\u001b[0m\n",
      "\u001b[1;31mAttributeError\u001b[0m: 'ElasticNet' object has no attribute 'predict_proba'"
     ]
    },
    {
     "data": {
      "image/png": "[encoded data removed]",
      "text/plain": [
       "<Figure size 864x576 with 1 Axes>"
      ]
     },
     "metadata": {
      "needs_background": "light"
     },
     "output_type": "display_data"
    }
   ],
   "source": [
    "#LRM Model Lack of Fit with AUC\n",
    "\n",
    "import numpy as np\n",
    "from sklearn.metrics import roc_curve\n",
    "from sklearn.metrics import roc_auc_score\n",
    "from matplotlib import pyplot\n",
    "\n",
    "plt.figure(figsize=(12,8))\n",
    "plt.title(\"AUC for ENR\")\n",
    "\n",
    "# predict probabilities\n",
    "probs = elastic_net.predict_proba(X_test)\n",
    "# keep probabilities for the positive outcome only\n",
    "probs = probs[:, 1]\n",
    "# calculate AUC\n",
    "auc = roc_auc_score(y_test, probs)\n",
    "print('AUC: %.3f' % auc)\n",
    "# calculate roc curve\n",
    "fpr, tpr, thresholds = roc_curve(y_test, probs)\n",
    "# plot no skill\n",
    "pyplot.plot([0, 1], [0, 1], linestyle='--')\n",
    "# plot the roc curve for the model\n",
    "pyplot.plot(fpr, tpr, marker='.')\n",
    "# show the plot\n",
    "pyplot.show()\n"
   ]
  },
  {
   "cell_type": "code",
   "execution_count": 93,
   "metadata": {},
   "outputs": [],
   "source": [
    "#df['PROP_EQUITY'] = df['VALUE']-df.['MORTDUE'] # Created feature to get a sense of equity value for home"
   ]
  },
  {
   "cell_type": "code",
   "execution_count": null,
   "metadata": {},
   "outputs": [],
   "source": []
  },
  {
   "cell_type": "code",
   "execution_count": null,
   "metadata": {},
   "outputs": [],
   "source": []
  }
 ],
 "metadata": {
  "kernelspec": {
   "display_name": "Python 3",
   "language": "python",
   "name": "python3"
  },
  "language_info": {
   "codemirror_mode": {
    "name": "ipython",
    "version": 3
   },
   "file_extension": ".py",
   "mimetype": "text/x-python",
   "name": "python",
   "nbconvert_exporter": "python",
   "pygments_lexer": "ipython3",
   "version": "3.7.3"
  }
 },
 "nbformat": 4,
 "nbformat_minor": 2
}
